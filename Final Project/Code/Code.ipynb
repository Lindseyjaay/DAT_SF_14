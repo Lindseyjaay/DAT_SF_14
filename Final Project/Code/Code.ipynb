{
 "cells": [
  {
   "cell_type": "markdown",
   "metadata": {},
   "source": [
    "# PART 1: THE SETUP & THE CLEANUP "
   ]
  },
  {
   "cell_type": "markdown",
   "metadata": {},
   "source": [
    "####Installing the necessary packages"
   ]
  },
  {
   "cell_type": "code",
   "execution_count": 433,
   "metadata": {
    "collapsed": false
   },
   "outputs": [],
   "source": [
    "#!pip install --upgrade pip seaborn\n",
    "import pandas as pd\n",
    "import numpy as np\n",
    "import seaborn as sns\n",
    "import matplotlib.pyplot as plt\n",
    "%matplotlib inline\n",
    "import re\n",
    "from sklearn import preprocessing\n",
    "import scipy\n",
    "import csv\n",
    "from sklearn.ensemble import RandomForestClassifier\n",
    "from sklearn.cross_validation import cross_val_score\n",
    "from sklearn.tree import DecisionTreeClassifier\n",
    "from sklearn.linear_model import LogisticRegression\n",
    "from sklearn.cross_validation import train_test_split\n",
    "from sklearn.cross_validation import StratifiedKFold"
   ]
  },
  {
   "cell_type": "markdown",
   "metadata": {},
   "source": [
    "####Importing my data as a CSV file."
   ]
  },
  {
   "cell_type": "code",
   "execution_count": 434,
   "metadata": {
    "collapsed": false
   },
   "outputs": [],
   "source": [
    "data = pd.read_csv(\"/Users/owner/desktop/ecb_data_2.csv\")"
   ]
  },
  {
   "cell_type": "markdown",
   "metadata": {},
   "source": [
    "####Getting a quick glance at the data"
   ]
  },
  {
   "cell_type": "code",
   "execution_count": 435,
   "metadata": {
    "collapsed": false
   },
   "outputs": [
    {
     "data": {
      "text/html": [
       "<div style=\"max-height:1000px;max-width:1500px;overflow:auto;\">\n",
       "<table border=\"1\" class=\"dataframe\">\n",
       "  <thead>\n",
       "    <tr style=\"text-align: right;\">\n",
       "      <th></th>\n",
       "      <th>year</th>\n",
       "      <th>apn</th>\n",
       "      <th>buillding_address</th>\n",
       "      <th>building_zip</th>\n",
       "      <th>neighborhood</th>\n",
       "      <th>floor_area</th>\n",
       "      <th>sqft_group</th>\n",
       "      <th>floor_area_group</th>\n",
       "      <th>year_built</th>\n",
       "      <th>year_built_group</th>\n",
       "      <th>...</th>\n",
       "      <th>land_use</th>\n",
       "      <th>total_uses</th>\n",
       "      <th>cie</th>\n",
       "      <th>med</th>\n",
       "      <th>mips</th>\n",
       "      <th>retail</th>\n",
       "      <th>pdr</th>\n",
       "      <th>visitor</th>\n",
       "      <th>construction_type</th>\n",
       "      <th>building_description</th>\n",
       "    </tr>\n",
       "  </thead>\n",
       "  <tbody>\n",
       "    <tr>\n",
       "      <th>0</th>\n",
       "      <td>2010</td>\n",
       "      <td>0326/003</td>\n",
       "      <td>135 POWELL ST</td>\n",
       "      <td>94102</td>\n",
       "      <td>Downtown/Civic Center</td>\n",
       "      <td>18,990</td>\n",
       "      <td>10-25K</td>\n",
       "      <td>10-20K</td>\n",
       "      <td>1909</td>\n",
       "      <td>1900-1909</td>\n",
       "      <td>...</td>\n",
       "      <td>RETAIL/ENT</td>\n",
       "      <td>24671</td>\n",
       "      <td>0</td>\n",
       "      <td>0</td>\n",
       "      <td>0</td>\n",
       "      <td>24671</td>\n",
       "      <td>0</td>\n",
       "      <td>0</td>\n",
       "      <td>Masonry or concrete</td>\n",
       "      <td>Commercial Stores</td>\n",
       "    </tr>\n",
       "    <tr>\n",
       "      <th>1</th>\n",
       "      <td>2010</td>\n",
       "      <td>1401/002</td>\n",
       "      <td>3132 CLEMENT ST</td>\n",
       "      <td>94121</td>\n",
       "      <td>Seacliff</td>\n",
       "      <td>16,669</td>\n",
       "      <td>10-25K</td>\n",
       "      <td>10-20K</td>\n",
       "      <td>2002</td>\n",
       "      <td>2000-2009</td>\n",
       "      <td>...</td>\n",
       "      <td>RETAIL/ENT</td>\n",
       "      <td>39708</td>\n",
       "      <td>0</td>\n",
       "      <td>0</td>\n",
       "      <td>0</td>\n",
       "      <td>39708</td>\n",
       "      <td>0</td>\n",
       "      <td>0</td>\n",
       "      <td>Masonry or concrete</td>\n",
       "      <td>Commercial Stores</td>\n",
       "    </tr>\n",
       "    <tr>\n",
       "      <th>2</th>\n",
       "      <td>2010</td>\n",
       "      <td>4347A/003</td>\n",
       "      <td>2090 Evan St.</td>\n",
       "      <td>94124</td>\n",
       "      <td>Bayview</td>\n",
       "      <td>119,900</td>\n",
       "      <td>50K+</td>\n",
       "      <td>100-200K</td>\n",
       "      <td>1956</td>\n",
       "      <td>1950-1959</td>\n",
       "      <td>...</td>\n",
       "      <td>PDR</td>\n",
       "      <td>4671</td>\n",
       "      <td>0</td>\n",
       "      <td>0</td>\n",
       "      <td>0</td>\n",
       "      <td>0</td>\n",
       "      <td>4671</td>\n",
       "      <td>0</td>\n",
       "      <td>Masonry or concrete</td>\n",
       "      <td>Industrial</td>\n",
       "    </tr>\n",
       "    <tr>\n",
       "      <th>3</th>\n",
       "      <td>2010</td>\n",
       "      <td>3780/078</td>\n",
       "      <td>836 BRANNAN ST</td>\n",
       "      <td>94103</td>\n",
       "      <td>South of Market</td>\n",
       "      <td>33,549</td>\n",
       "      <td>25-50K</td>\n",
       "      <td>30-40K</td>\n",
       "      <td>2001</td>\n",
       "      <td>2000-2009</td>\n",
       "      <td>...</td>\n",
       "      <td>MIXED</td>\n",
       "      <td>25396</td>\n",
       "      <td>0</td>\n",
       "      <td>0</td>\n",
       "      <td>0</td>\n",
       "      <td>8316</td>\n",
       "      <td>17080</td>\n",
       "      <td>0</td>\n",
       "      <td>0</td>\n",
       "      <td>Commercial Stores</td>\n",
       "    </tr>\n",
       "    <tr>\n",
       "      <th>4</th>\n",
       "      <td>2010</td>\n",
       "      <td>3511/093</td>\n",
       "      <td>40 LAFAYETTE ST</td>\n",
       "      <td>94103</td>\n",
       "      <td>South of Market</td>\n",
       "      <td>127,900</td>\n",
       "      <td>50K+</td>\n",
       "      <td>100-200K</td>\n",
       "      <td>1934</td>\n",
       "      <td>1930-1939</td>\n",
       "      <td>...</td>\n",
       "      <td>PDR</td>\n",
       "      <td>0</td>\n",
       "      <td>0</td>\n",
       "      <td>0</td>\n",
       "      <td>0</td>\n",
       "      <td>0</td>\n",
       "      <td>0</td>\n",
       "      <td>0</td>\n",
       "      <td>0</td>\n",
       "      <td>Industrial</td>\n",
       "    </tr>\n",
       "  </tbody>\n",
       "</table>\n",
       "<p>5 rows × 43 columns</p>\n",
       "</div>"
      ],
      "text/plain": [
       "   year        apn buillding_address  building_zip           neighborhood  \\\n",
       "0  2010   0326/003     135 POWELL ST         94102  Downtown/Civic Center   \n",
       "1  2010   1401/002   3132 CLEMENT ST         94121               Seacliff   \n",
       "2  2010  4347A/003     2090 Evan St.         94124                Bayview   \n",
       "3  2010   3780/078    836 BRANNAN ST         94103        South of Market   \n",
       "4  2010   3511/093   40 LAFAYETTE ST         94103        South of Market   \n",
       "\n",
       "  floor_area sqft_group floor_area_group  year_built year_built_group  \\\n",
       "0     18,990     10-25K           10-20K        1909        1900-1909   \n",
       "1     16,669     10-25K           10-20K        2002        2000-2009   \n",
       "2    119,900       50K+         100-200K        1956        1950-1959   \n",
       "3     33,549     25-50K           30-40K        2001        2000-2009   \n",
       "4    127,900       50K+         100-200K        1934        1930-1939   \n",
       "\n",
       "          ...             land_use total_uses  cie med  mips retail    pdr  \\\n",
       "0         ...           RETAIL/ENT      24671    0   0     0  24671      0   \n",
       "1         ...           RETAIL/ENT      39708    0   0     0  39708      0   \n",
       "2         ...                  PDR       4671    0   0     0      0   4671   \n",
       "3         ...                MIXED      25396    0   0     0   8316  17080   \n",
       "4         ...                  PDR          0    0   0     0      0      0   \n",
       "\n",
       "   visitor    construction_type building_description  \n",
       "0        0  Masonry or concrete    Commercial Stores  \n",
       "1        0  Masonry or concrete    Commercial Stores  \n",
       "2        0  Masonry or concrete           Industrial  \n",
       "3        0                    0    Commercial Stores  \n",
       "4        0                    0           Industrial  \n",
       "\n",
       "[5 rows x 43 columns]"
      ]
     },
     "execution_count": 435,
     "metadata": {},
     "output_type": "execute_result"
    }
   ],
   "source": [
    "data.head()"
   ]
  },
  {
   "cell_type": "markdown",
   "metadata": {},
   "source": [
    "####I needed to convert a few columns from objects into floats.\n",
    "\n",
    "####Here I ran into some issues as some features had quotation marks or commas.\n",
    "\n",
    "####To solve this, I used \"\"\"map(lambda x: re.sub('[^0-9\\.]', '', x)).astype(float)\"\"\"."
   ]
  },
  {
   "cell_type": "code",
   "execution_count": 436,
   "metadata": {
    "collapsed": false
   },
   "outputs": [],
   "source": [
    "data.Site_EUI_kBtu_ft = data.Site_EUI_kBtu_ft.map(lambda x: re.sub('[^0-9\\.]', '', x)).astype(float)\n",
    "data.National_Median_Site_EUI_kBtu_ft = data.National_Median_Site_EUI_kBtu_ft.map(lambda x: re.sub('[^0-9\\.]', '', x)).astype(float)\n",
    "data.Weather_Normalized_Site_EUI_kBtu_ft = data.Weather_Normalized_Site_EUI_kBtu_ft.map(lambda x: re.sub('[^0-9\\.]', '', x)).astype(float)\n",
    "data.Total_GHG_Emissions_MtCO2e = data.Total_GHG_Emissions_MtCO2e.map(lambda x: re.sub('[^0-9\\.]', '', x)).astype(float)\n",
    "data.floor_area = data.floor_area.map(lambda x: re.sub('[^0-9\\.]', '', x)).astype(float)"
   ]
  },
  {
   "cell_type": "code",
   "execution_count": 437,
   "metadata": {
    "collapsed": false
   },
   "outputs": [
    {
     "name": "stdout",
     "output_type": "stream",
     "text": [
      "<class 'pandas.core.frame.DataFrame'>\n",
      "Int64Index: 9320 entries, 0 to 9319\n",
      "Data columns (total 43 columns):\n",
      "year                                          9320 non-null int64\n",
      "apn                                           9320 non-null object\n",
      "buillding_address                             9320 non-null object\n",
      "building_zip                                  9320 non-null int64\n",
      "neighborhood                                  9320 non-null object\n",
      "floor_area                                    9320 non-null float64\n",
      "sqft_group                                    9320 non-null object\n",
      "floor_area_group                              9320 non-null object\n",
      "year_built                                    8935 non-null float64\n",
      "year_built_group                              8935 non-null object\n",
      "benchmark_status                              9320 non-null object\n",
      "Primary_Property_Type_EPA_Calculated          9320 non-null object\n",
      "Primary_Property_Type_EPA_Calculated_NA       9310 non-null float64\n",
      "Primary_Property_Type_Self_selected           9320 non-null object\n",
      "Primary_Property_Type_Self_selected_NA        9320 non-null int64\n",
      "National_Median_Reference_Property_Type       9305 non-null object\n",
      "National_Median_Reference_Property_Type_NA    9320 non-null int64\n",
      "ENERGY_STAR_Score                             9320 non-null float64\n",
      "ENERGY_STAR_Score_NA                          9320 non-null int64\n",
      "Site_EUI_kBtu_ft                              9320 non-null float64\n",
      "Site_EUI_kBtu_ft_NA                           9320 non-null int64\n",
      "National_Median_Site_EUI_kBtu_ft              9320 non-null float64\n",
      "National_Median_Site_EUI_kBtu_ft_NA           9320 non-null int64\n",
      "Weather_Normalized_Site_EUI_kBtu_ft           9320 non-null float64\n",
      "Weather_Normalized_Site_EUI_kBtu_ft_NA        9320 non-null int64\n",
      "Total_GHG_Emissions_MtCO2e                    9320 non-null float64\n",
      "Total_GHG_Emissions_MtCO2e_NA                 9320 non-null int64\n",
      "combined                                      9320 non-null object\n",
      "mapblklot                                     9320 non-null object\n",
      "blklot                                        9320 non-null object\n",
      "block                                         9320 non-null object\n",
      "lot                                           9320 non-null object\n",
      "stories                                       9320 non-null int64\n",
      "land_use                                      9320 non-null object\n",
      "total_uses                                    9320 non-null int64\n",
      "cie                                           9320 non-null int64\n",
      "med                                           9320 non-null int64\n",
      "mips                                          9320 non-null int64\n",
      "retail                                        9320 non-null int64\n",
      "pdr                                           9320 non-null int64\n",
      "visitor                                       9320 non-null int64\n",
      "construction_type                             9320 non-null object\n",
      "building_description                          9320 non-null object\n",
      "dtypes: float64(8), int64(17), object(18)\n",
      "memory usage: 3.1+ MB\n"
     ]
    }
   ],
   "source": [
    "#Making sure the data is in the right format.\n",
    "data.info()"
   ]
  },
  {
   "cell_type": "markdown",
   "metadata": {},
   "source": [
    "####Next, I made a copy of the dataframe so that I could use label encoding to transform my qualitative data into quantitative data, while maintaining the original dataframe."
   ]
  },
  {
   "cell_type": "code",
   "execution_count": 438,
   "metadata": {
    "collapsed": false
   },
   "outputs": [],
   "source": [
    "data_numerical = data.copy(deep = True)"
   ]
  },
  {
   "cell_type": "code",
   "execution_count": 439,
   "metadata": {
    "collapsed": false
   },
   "outputs": [],
   "source": [
    "#creating a variable for labeling\n",
    "label = preprocessing.LabelEncoder()"
   ]
  },
  {
   "cell_type": "code",
   "execution_count": 440,
   "metadata": {
    "collapsed": false
   },
   "outputs": [],
   "source": [
    "#transforming the data from categorical to numerical\n",
    "data_numerical.year = label.fit_transform(data.year)\n",
    "data_numerical.building_zip = label.fit_transform(data.building_zip)\n",
    "data_numerical.neighborhood = label.fit_transform(data.neighborhood)\n",
    "data_numerical.sqft_group = label.fit_transform(data.sqft_group)\n",
    "data_numerical.floor_area_group = label.fit_transform(data.floor_area_group)\n",
    "data_numerical.year_built_group = label.fit_transform(data.year_built_group)\n",
    "data_numerical.benchmark_status = label.fit_transform(data.benchmark_status)\n",
    "data_numerical.land_use = label.fit_transform(data.land_use)\n",
    "data_numerical.construction_type = label.fit_transform(data.construction_type)\n",
    "data_numerical.building_description = label.fit_transform(data.building_description)"
   ]
  },
  {
   "cell_type": "code",
   "execution_count": 441,
   "metadata": {
    "collapsed": false
   },
   "outputs": [
    {
     "data": {
      "text/html": [
       "<div style=\"max-height:1000px;max-width:1500px;overflow:auto;\">\n",
       "<table border=\"1\" class=\"dataframe\">\n",
       "  <thead>\n",
       "    <tr style=\"text-align: right;\">\n",
       "      <th></th>\n",
       "      <th>year</th>\n",
       "      <th>apn</th>\n",
       "      <th>buillding_address</th>\n",
       "      <th>building_zip</th>\n",
       "      <th>neighborhood</th>\n",
       "      <th>floor_area</th>\n",
       "      <th>sqft_group</th>\n",
       "      <th>floor_area_group</th>\n",
       "      <th>year_built</th>\n",
       "      <th>year_built_group</th>\n",
       "      <th>...</th>\n",
       "      <th>land_use</th>\n",
       "      <th>total_uses</th>\n",
       "      <th>cie</th>\n",
       "      <th>med</th>\n",
       "      <th>mips</th>\n",
       "      <th>retail</th>\n",
       "      <th>pdr</th>\n",
       "      <th>visitor</th>\n",
       "      <th>construction_type</th>\n",
       "      <th>building_description</th>\n",
       "    </tr>\n",
       "  </thead>\n",
       "  <tbody>\n",
       "    <tr>\n",
       "      <th>0</th>\n",
       "      <td>2010</td>\n",
       "      <td>0326/003</td>\n",
       "      <td>135 POWELL ST</td>\n",
       "      <td>94102</td>\n",
       "      <td>Downtown/Civic Center</td>\n",
       "      <td>18990</td>\n",
       "      <td>10-25K</td>\n",
       "      <td>10-20K</td>\n",
       "      <td>1909</td>\n",
       "      <td>1900-1909</td>\n",
       "      <td>...</td>\n",
       "      <td>RETAIL/ENT</td>\n",
       "      <td>24671</td>\n",
       "      <td>0</td>\n",
       "      <td>0</td>\n",
       "      <td>0</td>\n",
       "      <td>24671</td>\n",
       "      <td>0</td>\n",
       "      <td>0</td>\n",
       "      <td>Masonry or concrete</td>\n",
       "      <td>Commercial Stores</td>\n",
       "    </tr>\n",
       "    <tr>\n",
       "      <th>1</th>\n",
       "      <td>2010</td>\n",
       "      <td>1401/002</td>\n",
       "      <td>3132 CLEMENT ST</td>\n",
       "      <td>94121</td>\n",
       "      <td>Seacliff</td>\n",
       "      <td>16669</td>\n",
       "      <td>10-25K</td>\n",
       "      <td>10-20K</td>\n",
       "      <td>2002</td>\n",
       "      <td>2000-2009</td>\n",
       "      <td>...</td>\n",
       "      <td>RETAIL/ENT</td>\n",
       "      <td>39708</td>\n",
       "      <td>0</td>\n",
       "      <td>0</td>\n",
       "      <td>0</td>\n",
       "      <td>39708</td>\n",
       "      <td>0</td>\n",
       "      <td>0</td>\n",
       "      <td>Masonry or concrete</td>\n",
       "      <td>Commercial Stores</td>\n",
       "    </tr>\n",
       "    <tr>\n",
       "      <th>2</th>\n",
       "      <td>2010</td>\n",
       "      <td>4347A/003</td>\n",
       "      <td>2090 Evan St.</td>\n",
       "      <td>94124</td>\n",
       "      <td>Bayview</td>\n",
       "      <td>119900</td>\n",
       "      <td>50K+</td>\n",
       "      <td>100-200K</td>\n",
       "      <td>1956</td>\n",
       "      <td>1950-1959</td>\n",
       "      <td>...</td>\n",
       "      <td>PDR</td>\n",
       "      <td>4671</td>\n",
       "      <td>0</td>\n",
       "      <td>0</td>\n",
       "      <td>0</td>\n",
       "      <td>0</td>\n",
       "      <td>4671</td>\n",
       "      <td>0</td>\n",
       "      <td>Masonry or concrete</td>\n",
       "      <td>Industrial</td>\n",
       "    </tr>\n",
       "    <tr>\n",
       "      <th>3</th>\n",
       "      <td>2010</td>\n",
       "      <td>3780/078</td>\n",
       "      <td>836 BRANNAN ST</td>\n",
       "      <td>94103</td>\n",
       "      <td>South of Market</td>\n",
       "      <td>33549</td>\n",
       "      <td>25-50K</td>\n",
       "      <td>30-40K</td>\n",
       "      <td>2001</td>\n",
       "      <td>2000-2009</td>\n",
       "      <td>...</td>\n",
       "      <td>MIXED</td>\n",
       "      <td>25396</td>\n",
       "      <td>0</td>\n",
       "      <td>0</td>\n",
       "      <td>0</td>\n",
       "      <td>8316</td>\n",
       "      <td>17080</td>\n",
       "      <td>0</td>\n",
       "      <td>0</td>\n",
       "      <td>Commercial Stores</td>\n",
       "    </tr>\n",
       "    <tr>\n",
       "      <th>4</th>\n",
       "      <td>2010</td>\n",
       "      <td>3511/093</td>\n",
       "      <td>40 LAFAYETTE ST</td>\n",
       "      <td>94103</td>\n",
       "      <td>South of Market</td>\n",
       "      <td>127900</td>\n",
       "      <td>50K+</td>\n",
       "      <td>100-200K</td>\n",
       "      <td>1934</td>\n",
       "      <td>1930-1939</td>\n",
       "      <td>...</td>\n",
       "      <td>PDR</td>\n",
       "      <td>0</td>\n",
       "      <td>0</td>\n",
       "      <td>0</td>\n",
       "      <td>0</td>\n",
       "      <td>0</td>\n",
       "      <td>0</td>\n",
       "      <td>0</td>\n",
       "      <td>0</td>\n",
       "      <td>Industrial</td>\n",
       "    </tr>\n",
       "  </tbody>\n",
       "</table>\n",
       "<p>5 rows × 43 columns</p>\n",
       "</div>"
      ],
      "text/plain": [
       "   year        apn buillding_address  building_zip           neighborhood  \\\n",
       "0  2010   0326/003     135 POWELL ST         94102  Downtown/Civic Center   \n",
       "1  2010   1401/002   3132 CLEMENT ST         94121               Seacliff   \n",
       "2  2010  4347A/003     2090 Evan St.         94124                Bayview   \n",
       "3  2010   3780/078    836 BRANNAN ST         94103        South of Market   \n",
       "4  2010   3511/093   40 LAFAYETTE ST         94103        South of Market   \n",
       "\n",
       "   floor_area sqft_group floor_area_group  year_built year_built_group  \\\n",
       "0       18990     10-25K           10-20K        1909        1900-1909   \n",
       "1       16669     10-25K           10-20K        2002        2000-2009   \n",
       "2      119900       50K+         100-200K        1956        1950-1959   \n",
       "3       33549     25-50K           30-40K        2001        2000-2009   \n",
       "4      127900       50K+         100-200K        1934        1930-1939   \n",
       "\n",
       "           ...             land_use total_uses  cie med  mips retail    pdr  \\\n",
       "0          ...           RETAIL/ENT      24671    0   0     0  24671      0   \n",
       "1          ...           RETAIL/ENT      39708    0   0     0  39708      0   \n",
       "2          ...                  PDR       4671    0   0     0      0   4671   \n",
       "3          ...                MIXED      25396    0   0     0   8316  17080   \n",
       "4          ...                  PDR          0    0   0     0      0      0   \n",
       "\n",
       "   visitor    construction_type  building_description  \n",
       "0        0  Masonry or concrete     Commercial Stores  \n",
       "1        0  Masonry or concrete     Commercial Stores  \n",
       "2        0  Masonry or concrete            Industrial  \n",
       "3        0                    0     Commercial Stores  \n",
       "4        0                    0            Industrial  \n",
       "\n",
       "[5 rows x 43 columns]"
      ]
     },
     "execution_count": 441,
     "metadata": {},
     "output_type": "execute_result"
    }
   ],
   "source": [
    "#Viewing the transformed data\n",
    "data.head()"
   ]
  },
  {
   "cell_type": "code",
   "execution_count": 442,
   "metadata": {
    "collapsed": false
   },
   "outputs": [],
   "source": [
    "#Here, I used a for loop to remove a few columns that were extraneous.\n",
    "for col in data_numerical:\n",
    "    if data_numerical[col].dtype == object:\n",
    "        data_numerical.drop(col, axis =1, inplace= True)"
   ]
  },
  {
   "cell_type": "code",
   "execution_count": 443,
   "metadata": {
    "collapsed": false
   },
   "outputs": [
    {
     "name": "stdout",
     "output_type": "stream",
     "text": [
      "<class 'pandas.core.frame.DataFrame'>\n",
      "Int64Index: 9320 entries, 0 to 9319\n",
      "Data columns (total 33 columns):\n",
      "year                                          9320 non-null int64\n",
      "building_zip                                  9320 non-null int64\n",
      "neighborhood                                  9320 non-null int64\n",
      "floor_area                                    9320 non-null float64\n",
      "sqft_group                                    9320 non-null int64\n",
      "floor_area_group                              9320 non-null int64\n",
      "year_built                                    8935 non-null float64\n",
      "year_built_group                              9320 non-null int64\n",
      "benchmark_status                              9320 non-null int64\n",
      "Primary_Property_Type_EPA_Calculated_NA       9310 non-null float64\n",
      "Primary_Property_Type_Self_selected_NA        9320 non-null int64\n",
      "National_Median_Reference_Property_Type_NA    9320 non-null int64\n",
      "ENERGY_STAR_Score                             9320 non-null float64\n",
      "ENERGY_STAR_Score_NA                          9320 non-null int64\n",
      "Site_EUI_kBtu_ft                              9320 non-null float64\n",
      "Site_EUI_kBtu_ft_NA                           9320 non-null int64\n",
      "National_Median_Site_EUI_kBtu_ft              9320 non-null float64\n",
      "National_Median_Site_EUI_kBtu_ft_NA           9320 non-null int64\n",
      "Weather_Normalized_Site_EUI_kBtu_ft           9320 non-null float64\n",
      "Weather_Normalized_Site_EUI_kBtu_ft_NA        9320 non-null int64\n",
      "Total_GHG_Emissions_MtCO2e                    9320 non-null float64\n",
      "Total_GHG_Emissions_MtCO2e_NA                 9320 non-null int64\n",
      "stories                                       9320 non-null int64\n",
      "land_use                                      9320 non-null int64\n",
      "total_uses                                    9320 non-null int64\n",
      "cie                                           9320 non-null int64\n",
      "med                                           9320 non-null int64\n",
      "mips                                          9320 non-null int64\n",
      "retail                                        9320 non-null int64\n",
      "pdr                                           9320 non-null int64\n",
      "visitor                                       9320 non-null int64\n",
      "construction_type                             9320 non-null int64\n",
      "building_description                          9320 non-null int64\n",
      "dtypes: float64(8), int64(25)\n",
      "memory usage: 2.4 MB\n"
     ]
    }
   ],
   "source": [
    "#Viewing the data to make sure the columns were dropped.\n",
    "data_numerical.info()"
   ]
  },
  {
   "cell_type": "markdown",
   "metadata": {},
   "source": [
    "####Cross-validation time!"
   ]
  },
  {
   "cell_type": "code",
   "execution_count": 444,
   "metadata": {
    "collapsed": false
   },
   "outputs": [],
   "source": [
    "#This is the column that I'm trying to predict.\n",
    "y = data_numerical.benchmark_status"
   ]
  },
  {
   "cell_type": "code",
   "execution_count": 445,
   "metadata": {
    "collapsed": false
   },
   "outputs": [],
   "source": [
    "#All of the other data, excluding the column I want to predict.\n",
    "X = data_numerical.drop('benchmark_status', axis =1)"
   ]
  },
  {
   "cell_type": "code",
   "execution_count": 446,
   "metadata": {
    "collapsed": true
   },
   "outputs": [],
   "source": [
    "# Importing train_test_split and pass split data into a new instance\n",
    "from sklearn.cross_validation import train_test_split\n",
    "X_train, X_test, y_train, y_test = train_test_split(X, y, random_state=1)"
   ]
  },
  {
   "cell_type": "code",
   "execution_count": 447,
   "metadata": {
    "collapsed": false
   },
   "outputs": [
    {
     "data": {
      "text/plain": [
       "Did Not Comply    5837\n",
       "Complied          3188\n",
       "Exempt             295\n",
       "dtype: int64"
      ]
     },
     "execution_count": 447,
     "metadata": {},
     "output_type": "execute_result"
    }
   ],
   "source": [
    "data.benchmark_status.value_counts()"
   ]
  },
  {
   "cell_type": "code",
   "execution_count": 448,
   "metadata": {
    "collapsed": false,
    "scrolled": true
   },
   "outputs": [
    {
     "data": {
      "text/plain": [
       "1    5837\n",
       "0    3188\n",
       "2     295\n",
       "dtype: int64"
      ]
     },
     "execution_count": 448,
     "metadata": {},
     "output_type": "execute_result"
    }
   ],
   "source": [
    "y.value_counts()"
   ]
  },
  {
   "cell_type": "markdown",
   "metadata": {},
   "source": [
    "##RANDOM FOREST APPROACH"
   ]
  },
  {
   "cell_type": "markdown",
   "metadata": {},
   "source": [
    "####Manually entering the column labels"
   ]
  },
  {
   "cell_type": "code",
   "execution_count": 452,
   "metadata": {
    "collapsed": true
   },
   "outputs": [],
   "source": [
    "header_row = ['year','building_zip','neighborhood','floor_area','sqft_group','floor_area_group','year_built','year_built_group','benchmark_status','Primary_Property_Type_EPA_Calculated_NA','Primary_Property_Type_Self_selected_NA','National_Median_Reference_Property_Type_NA','ENERGY_STAR_Score','ENERGY_STAR_Score_NA', 'Site_EUI_kBtu_ft','Site_EUI_kBtu_ft_NA','National_Median_Site_EUI_kBtu_ft','National_Median_Site_EUI_kBtu_ft_NA','Weather_Normalized_Site_EUI_kBtu_ft','Weather_Normalized_Site_EUI_kBtu_ft_NA','Total_GHG_Emissions_MtCO2e','Total_GHG_Emissions_MtCO2e_NA','stories','land_use','total_uses','cie','med','mips','retail','pdr','visitor','construction_type','building_description']"
   ]
  },
  {
   "cell_type": "markdown",
   "metadata": {},
   "source": [
    "####Defining the features variables to prep for the random forest algorithm"
   ]
  },
  {
   "cell_type": "code",
   "execution_count": 453,
   "metadata": {
    "collapsed": false
   },
   "outputs": [],
   "source": [
    "features = [col for col in header_row if col not in ['benchmark_status']]"
   ]
  },
  {
   "cell_type": "markdown",
   "metadata": {},
   "source": [
    "#### Selecting features and converting target to boolean for Benchmark Statuses"
   ]
  },
  {
   "cell_type": "code",
   "execution_count": 462,
   "metadata": {
    "collapsed": false
   },
   "outputs": [],
   "source": [
    "X = data_numerical[features]\n",
    "binary_y = data_numerical['benchmark_status'] > 0\n",
    "categorical_y = data_numerical['benchmark_status']"
   ]
  },
  {
   "cell_type": "code",
   "execution_count": 459,
   "metadata": {
    "collapsed": false
   },
   "outputs": [
    {
     "ename": "ValueError",
     "evalue": "Input contains NaN, infinity or a value too large for dtype('float32').",
     "output_type": "error",
     "traceback": [
      "\u001b[0;31m---------------------------------------------------------------------------\u001b[0m",
      "\u001b[0;31mValueError\u001b[0m                                Traceback (most recent call last)",
      "\u001b[0;32m<ipython-input-459-16aad4f216ab>\u001b[0m in \u001b[0;36m<module>\u001b[0;34m()\u001b[0m\n\u001b[1;32m      5\u001b[0m \u001b[0;34m\u001b[0m\u001b[0m\n\u001b[1;32m      6\u001b[0m \u001b[0mdtc\u001b[0m \u001b[0;34m=\u001b[0m \u001b[0mDecisionTreeClassifier\u001b[0m\u001b[0;34m(\u001b[0m\u001b[0mmax_depth\u001b[0m\u001b[0;34m=\u001b[0m\u001b[0;36m5\u001b[0m\u001b[0;34m,\u001b[0m \u001b[0mrandom_state\u001b[0m\u001b[0;34m=\u001b[0m\u001b[0;36m1\u001b[0m\u001b[0;34m)\u001b[0m\u001b[0;34m\u001b[0m\u001b[0m\n\u001b[0;32m----> 7\u001b[0;31m \u001b[0mscores\u001b[0m \u001b[0;34m=\u001b[0m \u001b[0mcross_val_score\u001b[0m\u001b[0;34m(\u001b[0m\u001b[0mdtc\u001b[0m\u001b[0;34m,\u001b[0m \u001b[0mX\u001b[0m\u001b[0;34m,\u001b[0m \u001b[0my\u001b[0m\u001b[0;34m,\u001b[0m \u001b[0mcv\u001b[0m\u001b[0;34m=\u001b[0m\u001b[0;36m10\u001b[0m\u001b[0;34m,\u001b[0m \u001b[0mscoring\u001b[0m\u001b[0;34m=\u001b[0m\u001b[0;34m'accuracy'\u001b[0m\u001b[0;34m)\u001b[0m\u001b[0;34m\u001b[0m\u001b[0m\n\u001b[0m\u001b[1;32m      8\u001b[0m \u001b[0;32mprint\u001b[0m \u001b[0;34m'Decision tree accuracy: {}'\u001b[0m\u001b[0;34m.\u001b[0m\u001b[0mformat\u001b[0m\u001b[0;34m(\u001b[0m\u001b[0mnp\u001b[0m\u001b[0;34m.\u001b[0m\u001b[0mmean\u001b[0m\u001b[0;34m(\u001b[0m\u001b[0mscores\u001b[0m\u001b[0;34m)\u001b[0m\u001b[0;34m)\u001b[0m\u001b[0;34m\u001b[0m\u001b[0m\n",
      "\u001b[0;32m/Users/owner/anaconda/lib/python2.7/site-packages/sklearn/cross_validation.pyc\u001b[0m in \u001b[0;36mcross_val_score\u001b[0;34m(estimator, X, y, scoring, cv, n_jobs, verbose, fit_params, score_func, pre_dispatch)\u001b[0m\n\u001b[1;32m   1149\u001b[0m                                               \u001b[0mtrain\u001b[0m\u001b[0;34m,\u001b[0m \u001b[0mtest\u001b[0m\u001b[0;34m,\u001b[0m \u001b[0mverbose\u001b[0m\u001b[0;34m,\u001b[0m \u001b[0mNone\u001b[0m\u001b[0;34m,\u001b[0m\u001b[0;34m\u001b[0m\u001b[0m\n\u001b[1;32m   1150\u001b[0m                                               fit_params)\n\u001b[0;32m-> 1151\u001b[0;31m                       for train, test in cv)\n\u001b[0m\u001b[1;32m   1152\u001b[0m     \u001b[0;32mreturn\u001b[0m \u001b[0mnp\u001b[0m\u001b[0;34m.\u001b[0m\u001b[0marray\u001b[0m\u001b[0;34m(\u001b[0m\u001b[0mscores\u001b[0m\u001b[0;34m)\u001b[0m\u001b[0;34m[\u001b[0m\u001b[0;34m:\u001b[0m\u001b[0;34m,\u001b[0m \u001b[0;36m0\u001b[0m\u001b[0;34m]\u001b[0m\u001b[0;34m\u001b[0m\u001b[0m\n\u001b[1;32m   1153\u001b[0m \u001b[0;34m\u001b[0m\u001b[0m\n",
      "\u001b[0;32m/Users/owner/anaconda/lib/python2.7/site-packages/sklearn/externals/joblib/parallel.pyc\u001b[0m in \u001b[0;36m__call__\u001b[0;34m(self, iterable)\u001b[0m\n\u001b[1;32m    651\u001b[0m             \u001b[0mself\u001b[0m\u001b[0;34m.\u001b[0m\u001b[0m_iterating\u001b[0m \u001b[0;34m=\u001b[0m \u001b[0mTrue\u001b[0m\u001b[0;34m\u001b[0m\u001b[0m\n\u001b[1;32m    652\u001b[0m             \u001b[0;32mfor\u001b[0m \u001b[0mfunction\u001b[0m\u001b[0;34m,\u001b[0m \u001b[0margs\u001b[0m\u001b[0;34m,\u001b[0m \u001b[0mkwargs\u001b[0m \u001b[0;32min\u001b[0m \u001b[0miterable\u001b[0m\u001b[0;34m:\u001b[0m\u001b[0;34m\u001b[0m\u001b[0m\n\u001b[0;32m--> 653\u001b[0;31m                 \u001b[0mself\u001b[0m\u001b[0;34m.\u001b[0m\u001b[0mdispatch\u001b[0m\u001b[0;34m(\u001b[0m\u001b[0mfunction\u001b[0m\u001b[0;34m,\u001b[0m \u001b[0margs\u001b[0m\u001b[0;34m,\u001b[0m \u001b[0mkwargs\u001b[0m\u001b[0;34m)\u001b[0m\u001b[0;34m\u001b[0m\u001b[0m\n\u001b[0m\u001b[1;32m    654\u001b[0m \u001b[0;34m\u001b[0m\u001b[0m\n\u001b[1;32m    655\u001b[0m             \u001b[0;32mif\u001b[0m \u001b[0mpre_dispatch\u001b[0m \u001b[0;34m==\u001b[0m \u001b[0;34m\"all\"\u001b[0m \u001b[0;32mor\u001b[0m \u001b[0mn_jobs\u001b[0m \u001b[0;34m==\u001b[0m \u001b[0;36m1\u001b[0m\u001b[0;34m:\u001b[0m\u001b[0;34m\u001b[0m\u001b[0m\n",
      "\u001b[0;32m/Users/owner/anaconda/lib/python2.7/site-packages/sklearn/externals/joblib/parallel.pyc\u001b[0m in \u001b[0;36mdispatch\u001b[0;34m(self, func, args, kwargs)\u001b[0m\n\u001b[1;32m    398\u001b[0m         \"\"\"\n\u001b[1;32m    399\u001b[0m         \u001b[0;32mif\u001b[0m \u001b[0mself\u001b[0m\u001b[0;34m.\u001b[0m\u001b[0m_pool\u001b[0m \u001b[0;32mis\u001b[0m \u001b[0mNone\u001b[0m\u001b[0;34m:\u001b[0m\u001b[0;34m\u001b[0m\u001b[0m\n\u001b[0;32m--> 400\u001b[0;31m             \u001b[0mjob\u001b[0m \u001b[0;34m=\u001b[0m \u001b[0mImmediateApply\u001b[0m\u001b[0;34m(\u001b[0m\u001b[0mfunc\u001b[0m\u001b[0;34m,\u001b[0m \u001b[0margs\u001b[0m\u001b[0;34m,\u001b[0m \u001b[0mkwargs\u001b[0m\u001b[0;34m)\u001b[0m\u001b[0;34m\u001b[0m\u001b[0m\n\u001b[0m\u001b[1;32m    401\u001b[0m             \u001b[0mindex\u001b[0m \u001b[0;34m=\u001b[0m \u001b[0mlen\u001b[0m\u001b[0;34m(\u001b[0m\u001b[0mself\u001b[0m\u001b[0;34m.\u001b[0m\u001b[0m_jobs\u001b[0m\u001b[0;34m)\u001b[0m\u001b[0;34m\u001b[0m\u001b[0m\n\u001b[1;32m    402\u001b[0m             \u001b[0;32mif\u001b[0m \u001b[0;32mnot\u001b[0m \u001b[0m_verbosity_filter\u001b[0m\u001b[0;34m(\u001b[0m\u001b[0mindex\u001b[0m\u001b[0;34m,\u001b[0m \u001b[0mself\u001b[0m\u001b[0;34m.\u001b[0m\u001b[0mverbose\u001b[0m\u001b[0;34m)\u001b[0m\u001b[0;34m:\u001b[0m\u001b[0;34m\u001b[0m\u001b[0m\n",
      "\u001b[0;32m/Users/owner/anaconda/lib/python2.7/site-packages/sklearn/externals/joblib/parallel.pyc\u001b[0m in \u001b[0;36m__init__\u001b[0;34m(self, func, args, kwargs)\u001b[0m\n\u001b[1;32m    136\u001b[0m         \u001b[0;31m# Don't delay the application, to avoid keeping the input\u001b[0m\u001b[0;34m\u001b[0m\u001b[0;34m\u001b[0m\u001b[0m\n\u001b[1;32m    137\u001b[0m         \u001b[0;31m# arguments in memory\u001b[0m\u001b[0;34m\u001b[0m\u001b[0;34m\u001b[0m\u001b[0m\n\u001b[0;32m--> 138\u001b[0;31m         \u001b[0mself\u001b[0m\u001b[0;34m.\u001b[0m\u001b[0mresults\u001b[0m \u001b[0;34m=\u001b[0m \u001b[0mfunc\u001b[0m\u001b[0;34m(\u001b[0m\u001b[0;34m*\u001b[0m\u001b[0margs\u001b[0m\u001b[0;34m,\u001b[0m \u001b[0;34m**\u001b[0m\u001b[0mkwargs\u001b[0m\u001b[0;34m)\u001b[0m\u001b[0;34m\u001b[0m\u001b[0m\n\u001b[0m\u001b[1;32m    139\u001b[0m \u001b[0;34m\u001b[0m\u001b[0m\n\u001b[1;32m    140\u001b[0m     \u001b[0;32mdef\u001b[0m \u001b[0mget\u001b[0m\u001b[0;34m(\u001b[0m\u001b[0mself\u001b[0m\u001b[0;34m)\u001b[0m\u001b[0;34m:\u001b[0m\u001b[0;34m\u001b[0m\u001b[0m\n",
      "\u001b[0;32m/Users/owner/anaconda/lib/python2.7/site-packages/sklearn/cross_validation.pyc\u001b[0m in \u001b[0;36m_fit_and_score\u001b[0;34m(estimator, X, y, scorer, train, test, verbose, parameters, fit_params, return_train_score, return_parameters)\u001b[0m\n\u001b[1;32m   1237\u001b[0m         \u001b[0mestimator\u001b[0m\u001b[0;34m.\u001b[0m\u001b[0mfit\u001b[0m\u001b[0;34m(\u001b[0m\u001b[0mX_train\u001b[0m\u001b[0;34m,\u001b[0m \u001b[0;34m**\u001b[0m\u001b[0mfit_params\u001b[0m\u001b[0;34m)\u001b[0m\u001b[0;34m\u001b[0m\u001b[0m\n\u001b[1;32m   1238\u001b[0m     \u001b[0;32melse\u001b[0m\u001b[0;34m:\u001b[0m\u001b[0;34m\u001b[0m\u001b[0m\n\u001b[0;32m-> 1239\u001b[0;31m         \u001b[0mestimator\u001b[0m\u001b[0;34m.\u001b[0m\u001b[0mfit\u001b[0m\u001b[0;34m(\u001b[0m\u001b[0mX_train\u001b[0m\u001b[0;34m,\u001b[0m \u001b[0my_train\u001b[0m\u001b[0;34m,\u001b[0m \u001b[0;34m**\u001b[0m\u001b[0mfit_params\u001b[0m\u001b[0;34m)\u001b[0m\u001b[0;34m\u001b[0m\u001b[0m\n\u001b[0m\u001b[1;32m   1240\u001b[0m     \u001b[0mtest_score\u001b[0m \u001b[0;34m=\u001b[0m \u001b[0m_score\u001b[0m\u001b[0;34m(\u001b[0m\u001b[0mestimator\u001b[0m\u001b[0;34m,\u001b[0m \u001b[0mX_test\u001b[0m\u001b[0;34m,\u001b[0m \u001b[0my_test\u001b[0m\u001b[0;34m,\u001b[0m \u001b[0mscorer\u001b[0m\u001b[0;34m)\u001b[0m\u001b[0;34m\u001b[0m\u001b[0m\n\u001b[1;32m   1241\u001b[0m     \u001b[0;32mif\u001b[0m \u001b[0mreturn_train_score\u001b[0m\u001b[0;34m:\u001b[0m\u001b[0;34m\u001b[0m\u001b[0m\n",
      "\u001b[0;32m/Users/owner/anaconda/lib/python2.7/site-packages/sklearn/tree/tree.pyc\u001b[0m in \u001b[0;36mfit\u001b[0;34m(self, X, y, sample_mask, X_argsorted, check_input, sample_weight)\u001b[0m\n\u001b[1;32m    135\u001b[0m         \u001b[0;31m# Convert data\u001b[0m\u001b[0;34m\u001b[0m\u001b[0;34m\u001b[0m\u001b[0m\n\u001b[1;32m    136\u001b[0m         \u001b[0;32mif\u001b[0m \u001b[0mcheck_input\u001b[0m\u001b[0;34m:\u001b[0m\u001b[0;34m\u001b[0m\u001b[0m\n\u001b[0;32m--> 137\u001b[0;31m             \u001b[0mX\u001b[0m\u001b[0;34m,\u001b[0m \u001b[0;34m=\u001b[0m \u001b[0mcheck_arrays\u001b[0m\u001b[0;34m(\u001b[0m\u001b[0mX\u001b[0m\u001b[0;34m,\u001b[0m \u001b[0mdtype\u001b[0m\u001b[0;34m=\u001b[0m\u001b[0mDTYPE\u001b[0m\u001b[0;34m,\u001b[0m \u001b[0msparse_format\u001b[0m\u001b[0;34m=\u001b[0m\u001b[0;34m\"dense\"\u001b[0m\u001b[0;34m)\u001b[0m\u001b[0;34m\u001b[0m\u001b[0m\n\u001b[0m\u001b[1;32m    138\u001b[0m \u001b[0;34m\u001b[0m\u001b[0m\n\u001b[1;32m    139\u001b[0m         \u001b[0;31m# Determine output settings\u001b[0m\u001b[0;34m\u001b[0m\u001b[0;34m\u001b[0m\u001b[0m\n",
      "\u001b[0;32m/Users/owner/anaconda/lib/python2.7/site-packages/sklearn/utils/validation.pyc\u001b[0m in \u001b[0;36mcheck_arrays\u001b[0;34m(*arrays, **options)\u001b[0m\n\u001b[1;32m    281\u001b[0m                     \u001b[0marray\u001b[0m \u001b[0;34m=\u001b[0m \u001b[0mnp\u001b[0m\u001b[0;34m.\u001b[0m\u001b[0masarray\u001b[0m\u001b[0;34m(\u001b[0m\u001b[0marray\u001b[0m\u001b[0;34m,\u001b[0m \u001b[0mdtype\u001b[0m\u001b[0;34m=\u001b[0m\u001b[0mdtype\u001b[0m\u001b[0;34m)\u001b[0m\u001b[0;34m\u001b[0m\u001b[0m\n\u001b[1;32m    282\u001b[0m                 \u001b[0;32mif\u001b[0m \u001b[0;32mnot\u001b[0m \u001b[0mallow_nans\u001b[0m\u001b[0;34m:\u001b[0m\u001b[0;34m\u001b[0m\u001b[0m\n\u001b[0;32m--> 283\u001b[0;31m                     \u001b[0m_assert_all_finite\u001b[0m\u001b[0;34m(\u001b[0m\u001b[0marray\u001b[0m\u001b[0;34m)\u001b[0m\u001b[0;34m\u001b[0m\u001b[0m\n\u001b[0m\u001b[1;32m    284\u001b[0m \u001b[0;34m\u001b[0m\u001b[0m\n\u001b[1;32m    285\u001b[0m             \u001b[0;32mif\u001b[0m \u001b[0;32mnot\u001b[0m \u001b[0mallow_nd\u001b[0m \u001b[0;32mand\u001b[0m \u001b[0marray\u001b[0m\u001b[0;34m.\u001b[0m\u001b[0mndim\u001b[0m \u001b[0;34m>=\u001b[0m \u001b[0;36m3\u001b[0m\u001b[0;34m:\u001b[0m\u001b[0;34m\u001b[0m\u001b[0m\n",
      "\u001b[0;32m/Users/owner/anaconda/lib/python2.7/site-packages/sklearn/utils/validation.pyc\u001b[0m in \u001b[0;36m_assert_all_finite\u001b[0;34m(X)\u001b[0m\n\u001b[1;32m     41\u001b[0m             and not np.isfinite(X).all()):\n\u001b[1;32m     42\u001b[0m         raise ValueError(\"Input contains NaN, infinity\"\n\u001b[0;32m---> 43\u001b[0;31m                          \" or a value too large for %r.\" % X.dtype)\n\u001b[0m\u001b[1;32m     44\u001b[0m \u001b[0;34m\u001b[0m\u001b[0m\n\u001b[1;32m     45\u001b[0m \u001b[0;34m\u001b[0m\u001b[0m\n",
      "\u001b[0;31mValueError\u001b[0m: Input contains NaN, infinity or a value too large for dtype('float32')."
     ]
    }
   ],
   "source": [
    "y = binary_y\n",
    "\n",
    "# using cross-validation\n",
    "from sklearn.cross_validation import cross_val_score\n",
    "\n",
    "dtc = DecisionTreeClassifier(max_depth=5, random_state=1)\n",
    "scores = cross_val_score(dtc, X, y, cv=10, scoring='accuracy')\n",
    "print 'Decision tree accuracy: {}'.format(np.mean(scores))"
   ]
  },
  {
   "cell_type": "code",
   "execution_count": null,
   "metadata": {
    "collapsed": false
   },
   "outputs": [],
   "source": [
    "y = binary_y\n",
    "\n",
    "# use cross-validation for random forest\n",
    "from sklearn.cross_validation import cross_val_score\n",
    "from sklearn.ensemble import RandomForestClassifier, AdaBoostClassifier\n",
    "\n",
    "rfc = RandomForestClassifier(max_depth=5, n_estimators=10, random_state=1)\n",
    "scores = cross_val_score(rfc, X, y, cv=10, scoring='accuracy')\n",
    "print 'Random forest accuracy: {}'.format(np.mean(scores))\n",
    "\n",
    "abc = AdaBoostClassifier(n_estimators=10, random_state=1)\n",
    "scores = cross_val_score(abc, X, y, cv=10, scoring='accuracy')\n",
    "print 'AdaBoost accuracy: {}'.format(np.mean(scores))"
   ]
  },
  {
   "cell_type": "markdown",
   "metadata": {},
   "source": [
    "##NAIVE BAYES APPRAOCH"
   ]
  },
  {
   "cell_type": "code",
   "execution_count": null,
   "metadata": {
    "collapsed": true
   },
   "outputs": [],
   "source": []
  }
 ],
 "metadata": {
  "kernelspec": {
   "display_name": "Python 2",
   "language": "python",
   "name": "python2"
  },
  "language_info": {
   "codemirror_mode": {
    "name": "ipython",
    "version": 2
   },
   "file_extension": ".py",
   "mimetype": "text/x-python",
   "name": "python",
   "nbconvert_exporter": "python",
   "pygments_lexer": "ipython2",
   "version": "2.7.10"
  }
 },
 "nbformat": 4,
 "nbformat_minor": 0
}

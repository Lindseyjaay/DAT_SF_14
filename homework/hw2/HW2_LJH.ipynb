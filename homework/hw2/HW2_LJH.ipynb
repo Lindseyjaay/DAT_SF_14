{
 "cells": [
  {
   "cell_type": "code",
   "execution_count": 1,
   "metadata": {
    "collapsed": true
   },
   "outputs": [],
   "source": [
    "#Question 1: Implement KNN classification, using the sklearn package.\n",
    "\n",
    "%matplotlib inline\n",
    "from __future__ import division\n",
    "import pandas as pd\n",
    "import numpy as np\n",
    "import matplotlib.pyplot as plt\n",
    "from sklearn.datasets import load_iris"
   ]
  },
  {
   "cell_type": "code",
   "execution_count": 2,
   "metadata": {
    "collapsed": true
   },
   "outputs": [],
   "source": [
    "from matplotlib.colors import ListedColormap\n",
    "from sklearn import neighbors, datasets, feature_selection\n",
    "from sklearn.cross_validation import train_test_split, cross_val_score\n",
    "from sklearn.preprocessing import scale"
   ]
  },
  {
   "cell_type": "code",
   "execution_count": 3,
   "metadata": {
    "collapsed": false
   },
   "outputs": [
    {
     "name": "stdout",
     "output_type": "stream",
     "text": [
      "iris data head:\n",
      "   sepal length (cm)  sepal width (cm)  petal length (cm)  petal width (cm)  \\\n",
      "0                5.1               3.5                1.4               0.2   \n",
      "1                4.9               3.0                1.4               0.2   \n",
      "2                4.7               3.2                1.3               0.2   \n",
      "3                4.6               3.1                1.5               0.2   \n",
      "4                5.0               3.6                1.4               0.2   \n",
      "\n",
      "   Target  \n",
      "0       0  \n",
      "1       0  \n",
      "2       0  \n",
      "3       0  \n",
      "4       0  \n",
      "iris describe():\n",
      "       sepal length (cm)  sepal width (cm)  petal length (cm)  \\\n",
      "count         150.000000        150.000000         150.000000   \n",
      "mean            5.843333          3.054000           3.758667   \n",
      "std             0.828066          0.433594           1.764420   \n",
      "min             4.300000          2.000000           1.000000   \n",
      "25%             5.100000          2.800000           1.600000   \n",
      "50%             5.800000          3.000000           4.350000   \n",
      "75%             6.400000          3.300000           5.100000   \n",
      "max             7.900000          4.400000           6.900000   \n",
      "\n",
      "       petal width (cm)      Target  \n",
      "count        150.000000  150.000000  \n",
      "mean           1.198667    1.000000  \n",
      "std            0.763161    0.819232  \n",
      "min            0.100000    0.000000  \n",
      "25%            0.300000    0.000000  \n",
      "50%            1.300000    1.000000  \n",
      "75%            1.800000    2.000000  \n",
      "max            2.500000    2.000000  \n",
      "label set: array([0, 1, 2])\n"
     ]
    }
   ],
   "source": [
    "iris = datasets.load_iris()\n",
    "iris_df = pd.DataFrame(iris.data, columns=iris.feature_names)\n",
    "\n",
    "iris_df['Target'] = iris.target\n",
    "print 'iris data head:'\n",
    "print iris_df.head()\n",
    "print 'iris describe():'\n",
    "print iris_df.describe()\n",
    "\n",
    "print \"label set: \" + repr(iris_df['Target'].unique())"
   ]
  },
  {
   "cell_type": "code",
   "execution_count": 4,
   "metadata": {
    "collapsed": false
   },
   "outputs": [
    {
     "name": "stdout",
     "output_type": "stream",
     "text": [
      "     sepal length (cm)  sepal width (cm)  petal length (cm)  petal width (cm)\n",
      "0            -0.900681          1.032057          -1.341272         -1.312977\n",
      "1            -1.143017         -0.124958          -1.341272         -1.312977\n",
      "2            -1.385353          0.337848          -1.398138         -1.312977\n",
      "3            -1.506521          0.106445          -1.284407         -1.312977\n",
      "4            -1.021849          1.263460          -1.341272         -1.312977\n",
      "5            -0.537178          1.957669          -1.170675         -1.050031\n",
      "6            -1.506521          0.800654          -1.341272         -1.181504\n",
      "7            -1.021849          0.800654          -1.284407         -1.312977\n",
      "8            -1.748856         -0.356361          -1.341272         -1.312977\n",
      "9            -1.143017          0.106445          -1.284407         -1.444450\n",
      "10           -0.537178          1.494863          -1.284407         -1.312977\n",
      "11           -1.264185          0.800654          -1.227541         -1.312977\n",
      "12           -1.264185         -0.124958          -1.341272         -1.444450\n",
      "13           -1.870024         -0.124958          -1.511870         -1.444450\n",
      "14           -0.052506          2.189072          -1.455004         -1.312977\n",
      "15           -0.173674          3.114684          -1.284407         -1.050031\n",
      "16           -0.537178          1.957669          -1.398138         -1.050031\n",
      "17           -0.900681          1.032057          -1.341272         -1.181504\n",
      "18           -0.173674          1.726266          -1.170675         -1.181504\n",
      "19           -0.900681          1.726266          -1.284407         -1.181504\n",
      "20           -0.537178          0.800654          -1.170675         -1.312977\n",
      "21           -0.900681          1.494863          -1.284407         -1.050031\n",
      "22           -1.506521          1.263460          -1.568735         -1.312977\n",
      "23           -0.900681          0.569251          -1.170675         -0.918558\n",
      "24           -1.264185          0.800654          -1.056944         -1.312977\n",
      "25           -1.021849         -0.124958          -1.227541         -1.312977\n",
      "26           -1.021849          0.800654          -1.227541         -1.050031\n",
      "27           -0.779513          1.032057          -1.284407         -1.312977\n",
      "28           -0.779513          0.800654          -1.341272         -1.312977\n",
      "29           -1.385353          0.337848          -1.227541         -1.312977\n",
      "..                 ...               ...                ...               ...\n",
      "120           1.280340          0.337848           1.103953          1.447956\n",
      "121          -0.294842         -0.587764           0.649027          1.053537\n",
      "122           2.249683         -0.587764           1.672610          1.053537\n",
      "123           0.553333         -0.819166           0.649027          0.790591\n",
      "124           1.038005          0.569251           1.103953          1.185010\n",
      "125           1.643844          0.337848           1.274550          0.790591\n",
      "126           0.432165         -0.587764           0.592162          0.790591\n",
      "127           0.310998         -0.124958           0.649027          0.790591\n",
      "128           0.674501         -0.587764           1.047087          1.185010\n",
      "129           1.643844         -0.124958           1.160819          0.527645\n",
      "130           1.886180         -0.587764           1.331416          0.922064\n",
      "131           2.492019          1.726266           1.502013          1.053537\n",
      "132           0.674501         -0.587764           1.047087          1.316483\n",
      "133           0.553333         -0.587764           0.762759          0.396172\n",
      "134           0.310998         -1.050569           1.047087          0.264699\n",
      "135           2.249683         -0.124958           1.331416          1.447956\n",
      "136           0.553333          0.800654           1.047087          1.579429\n",
      "137           0.674501          0.106445           0.990221          0.790591\n",
      "138           0.189830         -0.124958           0.592162          0.790591\n",
      "139           1.280340          0.106445           0.933356          1.185010\n",
      "140           1.038005          0.106445           1.047087          1.579429\n",
      "141           1.280340          0.106445           0.762759          1.447956\n",
      "142          -0.052506         -0.819166           0.762759          0.922064\n",
      "143           1.159173          0.337848           1.217684          1.447956\n",
      "144           1.038005          0.569251           1.103953          1.710902\n",
      "145           1.038005         -0.124958           0.819624          1.447956\n",
      "146           0.553333         -1.281972           0.705893          0.922064\n",
      "147           0.795669         -0.124958           0.819624          1.053537\n",
      "148           0.432165          0.800654           0.933356          1.447956\n",
      "149           0.068662         -0.124958           0.762759          0.790591\n",
      "\n",
      "[150 rows x 4 columns]\n"
     ]
    }
   ],
   "source": [
    "df_norm = pd.DataFrame(scale(iris.data), columns=iris.feature_names)\n",
    "print df_norm"
   ]
  },
  {
   "cell_type": "code",
   "execution_count": 7,
   "metadata": {
    "collapsed": false
   },
   "outputs": [
    {
     "name": "stdout",
     "output_type": "stream",
     "text": [
      "[1, 3, 5, 7, 9, 11, 13, 15, 17, 19, 21, 23, 25, 27, 29, 31, 33, 35, 37, 39, 41, 43, 45, 47, 49]\n"
     ]
    }
   ],
   "source": [
    "n_neighbors = range(1, 51, 2)\n",
    "print n_neighbors"
   ]
  },
  {
   "cell_type": "code",
   "execution_count": 9,
   "metadata": {
    "collapsed": false
   },
   "outputs": [],
   "source": [
    "X_train, X_test, y_train, y_test = train_test_split(iris.data, iris.target, test_size=0.3, random_state=8)"
   ]
  },
  {
   "cell_type": "code",
   "execution_count": 10,
   "metadata": {
    "collapsed": false
   },
   "outputs": [],
   "source": [
    "scores = []\n",
    "for n in n_neighbors:\n",
    "    clf = neighbors.KNeighborsClassifier(n)\n",
    "    clf.fit(X_train, y_train)\n",
    "    scores.append(clf.score(X_test, y_test))"
   ]
  },
  {
   "cell_type": "code",
   "execution_count": 13,
   "metadata": {
    "collapsed": false
   },
   "outputs": [
    {
     "data": {
      "text/plain": [
       "[<matplotlib.lines.Line2D at 0x108e9a650>]"
      ]
     },
     "execution_count": 13,
     "metadata": {},
     "output_type": "execute_result"
    },
    {
     "data": {
      "image/png": "[encoded data removed]",
      "text/plain": [
       "<matplotlib.figure.Figure at 0x108effbd0>"
      ]
     },
     "metadata": {},
     "output_type": "display_data"
    }
   ],
   "source": [
    "plt.plot(n_neighbors, scores, linewidth=3.0)"
   ]
  },
  {
   "cell_type": "code",
   "execution_count": 17,
   "metadata": {
    "collapsed": false
   },
   "outputs": [
    {
     "name": "stdout",
     "output_type": "stream",
     "text": [
      "[2 3 4 5 6 7 8 9] [0 1]\n",
      "[0 1 4 5 6 7 8 9] [2 3]\n",
      "[0 1 2 3 6 7 8 9] [4 5]\n",
      "[0 1 2 3 4 5 8 9] [6 7]\n",
      "[0 1 2 3 4 5 6 7] [8 9]\n"
     ]
    }
   ],
   "source": [
    "#Question 2: Use the sklearn package to implement cross-validation for your classifier.\n",
    "\n",
    "from sklearn.datasets import load_iris\n",
    "iris = datasets.load_iris()\n",
    "iris_df = pd.DataFrame(iris.data, columns=iris.feature_names)\n",
    "\n",
    "# from sklearn.cross_validation import cross_val_score\n",
    "# clf = neighbors.KNeighborsClassifier(11, weights='uniform')\n",
    "# clf.fit(iris.data, iris.target)\n",
    "# scores = cross_val_score(clf, iris_df.values, iris.target, cv=5)\n",
    "\n",
    "import numpy as np\n",
    "from sklearn.cross_validation import KFold\n",
    "\n",
    "kf = KFold(10, n_folds=5)\n",
    "for train, test in kf:\n",
    "    print(\"%s %s\" % (train, test))\n",
    "    \n",
    "    \n",
    "###QUESTION: HOW LARGE SHOULD MY SAMPLE BE?"
   ]
  },
  {
   "cell_type": "code",
   "execution_count": null,
   "metadata": {
    "collapsed": true
   },
   "outputs": [],
   "source": [
    "#Question 3: Use your KNN classifier and cross-validation code from (1) and (2) above to determine the optimal value of K (number of nearest neighbors to consult) for this Iris dataset."
   ]
  },
  {
   "cell_type": "code",
   "execution_count": 22,
   "metadata": {
    "collapsed": true
   },
   "outputs": [],
   "source": [
    "X_train, X_test, y_train, y_test = train_test_split(iris.data, iris.target, test_size=0.3, random_state=12)"
   ]
  },
  {
   "cell_type": "code",
   "execution_count": 23,
   "metadata": {
    "collapsed": true
   },
   "outputs": [],
   "source": [
    "scores = []\n",
    "for n in n_neighbors:\n",
    "    clf = neighbors.KNeighborsClassifier(n)\n",
    "    clf.fit(X_train, y_train)\n",
    "    scores.append(clf.score(X_test, y_test))"
   ]
  },
  {
   "cell_type": "code",
   "execution_count": 24,
   "metadata": {
    "collapsed": false
   },
   "outputs": [
    {
     "data": {
      "text/plain": [
       "[<matplotlib.lines.Line2D at 0x1098f9f90>]"
      ]
     },
     "execution_count": 24,
     "metadata": {},
     "output_type": "execute_result"
    },
    {
     "data": {
      "image/png": "[encoded data removed]",
      "text/plain": [
       "<matplotlib.figure.Figure at 0x108fccf90>"
      ]
     },
     "metadata": {},
     "output_type": "display_data"
    }
   ],
   "source": [
    "#Question 4: Using matplotlib, plot classifier accuracy versus the hyperparameter K for a range of K that you consider interesting. Explain in words what you are seeing.\n",
    "#Answer: Noise of neighbors reduces the effectiveness of clustering the data.\n",
    "\n",
    "plt.plot(n_neighbors, scores, linewidth=3.0)"
   ]
  },
  {
   "cell_type": "code",
   "execution_count": null,
   "metadata": {
    "collapsed": true
   },
   "outputs": [],
   "source": [
    "#Question 5: Now, write your own implementation of cross-validation in Python without using the cross-validation methods from sklearn. Cross validation is a very important concept. Implementing it yourself in Python is the best way to learn and understand it. Compare the results of your cross-validation code with your results using the cross-validation in sklearn."
   ]
  }
 ],
 "metadata": {
  "kernelspec": {
   "display_name": "Python 2",
   "language": "python",
   "name": "python2"
  },
  "language_info": {
   "codemirror_mode": {
    "name": "ipython",
    "version": 2
   },
   "file_extension": ".py",
   "mimetype": "text/x-python",
   "name": "python",
   "nbconvert_exporter": "python",
   "pygments_lexer": "ipython2",
   "version": "2.7.9"
  }
 },
 "nbformat": 4,
 "nbformat_minor": 0
}

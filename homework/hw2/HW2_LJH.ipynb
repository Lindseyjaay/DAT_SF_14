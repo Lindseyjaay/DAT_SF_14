{
 "cells": [
  {
   "cell_type": "code",
   "execution_count": 3,
   "metadata": {
    "collapsed": true
   },
   "outputs": [],
   "source": [
    "#Question 1: Implement KNN classification, using the sklearn package.\n",
    "\n",
    "%matplotlib inline\n",
    "from __future__ import division\n",
    "import pandas as pd\n",
    "import numpy as np\n",
    "import matplotlib.pyplot as plt\n",
    "import sklearn\n",
    "from sklearn import neighbors, datasets\n",
    "from sklearn.neighbors import KNeighborsClassifier\n",
    "from sklearn.cross_validation import train_test_split\n",
    "from sklearn.preprocessing import Imputer\n",
    "from sklearn.datasets import load_iris"
   ]
  },
  {
   "cell_type": "code",
   "execution_count": 4,
   "metadata": {
    "collapsed": true
   },
   "outputs": [],
   "source": [
    "X_train, X_test, y_train, y_test = train_test_split(iris.data, iris.target, test_size=0.3, random_state=8)"
   ]
  },
  {
   "cell_type": "code",
   "execution_count": 5,
   "metadata": {
    "collapsed": false
   },
   "outputs": [],
   "source": [
    "knn = KNeighborsClassifier(3).fit(X_train,y_train)"
   ]
  },
  {
   "cell_type": "code",
   "execution_count": 6,
   "metadata": {
    "collapsed": false
   },
   "outputs": [
    {
     "data": {
      "text/plain": [
       "0.93333333333333335"
      ]
     },
     "execution_count": 6,
     "metadata": {},
     "output_type": "execute_result"
    }
   ],
   "source": [
    "knn.score(X_test, y_test)"
   ]
  },
  {
   "cell_type": "code",
   "execution_count": 7,
   "metadata": {
    "collapsed": false
   },
   "outputs": [],
   "source": [
    "#Question 2: Use the sklearn package to implement cross-validation for your classifier. Use 5 folds for your cross-validation.\n",
    "\n",
    "from matplotlib.colors import ListedColormap\n",
    "from sklearn import neighbors, datasets, feature_selection\n",
    "from sklearn.cross_validation import train_test_split, cross_val_score\n",
    "from sklearn.preprocessing import scale\n",
    "\n",
    "from sklearn.datasets import load_iris\n",
    "iris = datasets.load_iris()\n",
    "iris_df = pd.DataFrame(iris.data, columns=iris.feature_names)\n",
    "\n",
    "from sklearn.cross_validation import cross_val_score\n",
    "clf = neighbors.KNeighborsClassifier(11, weights='uniform')\n",
    "clf.fit(iris.data, iris.target)\n",
    "scores = cross_val_score(clf, iris_df.values, iris.target, cv=5)"
   ]
  },
  {
   "cell_type": "code",
   "execution_count": 8,
   "metadata": {
    "collapsed": false
   },
   "outputs": [
    {
     "name": "stdout",
     "output_type": "stream",
     "text": [
      "[ 0.93333333  1.          1.          0.96666667  1.        ]\n",
      "0.98\n"
     ]
    }
   ],
   "source": [
    "print scores\n",
    "print scores.mean()"
   ]
  },
  {
   "cell_type": "code",
   "execution_count": 9,
   "metadata": {
    "collapsed": false
   },
   "outputs": [
    {
     "name": "stdout",
     "output_type": "stream",
     "text": [
      "[1, 11, 21, 31, 41, 51, 61, 71, 81, 91, 101, 111, 121, 131, 141]\n"
     ]
    }
   ],
   "source": [
    "#Question 3: Use your KNN classifier and cross-validation code from (1) and (2) above to determine the optimal value of K (number of nearest neighbors to consult) for this Iris dataset. Hint: This hyperparameter will be a number between 1 and 150\n",
    "\n",
    "n_neighbors = range(1, 150, 10)\n",
    "print n_neighbors"
   ]
  },
  {
   "cell_type": "code",
   "execution_count": 20,
   "metadata": {
    "collapsed": false
   },
   "outputs": [
    {
     "data": {
      "text/plain": [
       "<matplotlib.collections.QuadMesh at 0x10e196fd0>"
      ]
     },
     "execution_count": 20,
     "metadata": {},
     "output_type": "execute_result"
    },
    {
     "data": {
      "image/png": "[encoded data removed]",
      "text/plain": [
       "<matplotlib.figure.Figure at 0x10e1ba490>"
      ]
     },
     "metadata": {},
     "output_type": "display_data"
    }
   ],
   "source": [
    "#Question 4: Using matplotlib, plot classifier accuracy versus the hyperparameter K for a range of K that you consider interesting. Explain in words what you are seeing.\n",
    "\n",
    "clf = neighbors.KNeighborsClassifier(11, weights='uniform')\n",
    "clf.fit(iris.data[:, 2:4], iris.target)\n",
    "\n",
    "\n",
    "h = 0.01\n",
    "\n",
    "# Creating color map\n",
    "cmap_light = ListedColormap(['#FFAAAA', '#AAFFAA', '#AAAAFF'])\n",
    "cmap_bold = ListedColormap(['#FF0000', '#00FF00', '#0000FF'])\n",
    "\n",
    "# Plotting the decision boundary.\n",
    "x_min, y_min = iris_df.min()[['petal length (cm)', 'petal width (cm)']]\n",
    "x_max, y_max = iris_df.max()[['petal length (cm)', 'petal width (cm)']]\n",
    "\n",
    "xx, yy = np.meshgrid(np.arange(x_min, x_max, h), np.arange(y_min, y_max, h))\n",
    "Z = clf.predict(np.c_[xx.ravel(), yy.ravel()])\n",
    "\n",
    "# Putting the result into a color plot\n",
    "Z = Z.reshape(xx.shape)\n",
    "\n",
    "plt.figure(figsize=(18,6))\n",
    "plt.pcolormesh(xx, yy, Z, cmap=cmap_light)"
   ]
  },
  {
   "cell_type": "code",
   "execution_count": 52,
   "metadata": {
    "collapsed": false
   },
   "outputs": [],
   "source": [
    "#Question 5: Now, write your own implementation of cross-validation in Python without using the cross-validation methods from sklearn.\n",
    "#Cross validation is a very important concept.\n",
    "#Implementing it yourself in Python is the best way to learn and understand it.\n",
    "#Compare the results of your cross-validation code with your results using the cross-validation in sklearn.\n",
    "\n",
    "def k_fold_cross_validation(X, K, randomise = False):\n",
    "    \n",
    "#Generates K (training, testing) sets from the items in X.\n",
    "#Each set is a subset of X, with repeated validation on length len(X)/K.\n",
    "#So each validation is of length (K-1)*len(X)/K.\n",
    "\n",
    "#If randomise = True, a copy of X is shuffled before partitioning.\n",
    "#If randomise = False, the set is preserved in training and validation.\n",
    "\n",
    "    if randomise: from random import shuffle; X=list(X); shuffle(X)\n",
    "    for k in xrange(K):\n",
    "        training = [x for i, x in enumerate(X) if i % K != k]\n",
    "        testing = [x for i, x in enumerate(X) if i % K == k]\n",
    "        yield training, testing\n",
    " \n",
    "X = [i for i in xrange(97)]\n",
    "for training, testing in k_fold_cross_validation(X, K=5):\n",
    "    for x in X: assert (x in training) ^ (x in testing), x"
   ]
  },
  {
   "cell_type": "code",
   "execution_count": 53,
   "metadata": {
    "collapsed": true
   },
   "outputs": [],
   "source": [
    "iris = datasets.load_iris()\n",
    "iris_df = pd.DataFrame(iris.data, columns=iris.feature_names)"
   ]
  },
  {
   "cell_type": "code",
   "execution_count": 54,
   "metadata": {
    "collapsed": false
   },
   "outputs": [],
   "source": [
    "clf = neighbors.KNeighborsClassifier(11, weights='uniform')\n",
    "clf.fit(iris.data, iris.target)\n",
    "scores = cross_val_score(clf, iris_df.values, iris.target, cv=5)"
   ]
  },
  {
   "cell_type": "code",
   "execution_count": 55,
   "metadata": {
    "collapsed": false
   },
   "outputs": [
    {
     "name": "stdout",
     "output_type": "stream",
     "text": [
      "[ 0.93333333  1.          1.          0.96666667  1.        ]\n",
      "0.98\n"
     ]
    }
   ],
   "source": [
    "print scores\n",
    "print scores.mean()"
   ]
  },
  {
   "cell_type": "code",
   "execution_count": null,
   "metadata": {
    "collapsed": true
   },
   "outputs": [],
   "source": []
  }
 ],
 "metadata": {
  "kernelspec": {
   "display_name": "Python 2",
   "language": "python",
   "name": "python2"
  },
  "language_info": {
   "codemirror_mode": {
    "name": "ipython",
    "version": 2
   },
   "file_extension": ".py",
   "mimetype": "text/x-python",
   "name": "python",
   "nbconvert_exporter": "python",
   "pygments_lexer": "ipython2",
   "version": "2.7.9"
  }
 },
 "nbformat": 4,
 "nbformat_minor": 0
}

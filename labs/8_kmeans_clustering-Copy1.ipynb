{
 "cells": [
  {
   "cell_type": "markdown",
   "metadata": {},
   "source": [
    "# GA Data Science (DAT14)\n",
    "\n",
    "## K-Means Clustering\n"
   ]
  },
  {
   "cell_type": "markdown",
   "metadata": {},
   "source": [
    "### Create Random Data Set"
   ]
  },
  {
   "cell_type": "markdown",
   "metadata": {},
   "source": [
    "In the last few weeks, we've studied classifiers - KNN, Naive Bayes, and Logistic Regression. These are algorithms that are trainined on a dataset and are then tasked with accurately \"classifying\" a new data point with the appropriate label. \n",
    "\n",
    "Kmeans is in a different class of algorithms, called clustering. It is an unsupervised approach meaning that it is not presented with labels. Instead it is presented with a dataset and it is tasked with finding the clusters inherent in the data.\n",
    "\n",
    "Assignment: generate a series of 80 data points in 2 dimensions (x,y) with the following properties:\n",
    "\n",
    "- there should be 4 clusters of points\n",
    "- each cluster should be formed by points whose coordinates come from a 2D gaussian\n",
    "- the 2D gaussians should have the following centers:\n",
    "- [1,1] , [1,3], [3,1], [3,3]\n",
    "- they should have variance of 0.1, and 0 covariance"
   ]
  },
  {
   "cell_type": "markdown",
   "metadata": {},
   "source": [
    "np.random.multivariate takes 3 parameters:\n",
    "- mean\n",
    "- covariance\n",
    "- number of samples"
   ]
  },
  {
   "cell_type": "code",
   "execution_count": 8,
   "metadata": {
    "collapsed": false
   },
   "outputs": [],
   "source": [
    "import numpy as np\n",
    "import matplotlib.pyplot as plt\n",
    "%matplotlib inline"
   ]
  },
  {
   "cell_type": "markdown",
   "metadata": {},
   "source": [
    "In the Code below, np.random.multivariate_normal samples from a gaussian distribution to generate a collection of points. Let's first get comfortable with sampling from a distrubtion. \n"
   ]
  },
  {
   "cell_type": "code",
   "execution_count": 9,
   "metadata": {
    "collapsed": false
   },
   "outputs": [
    {
     "name": "stdout",
     "output_type": "stream",
     "text": [
      "[[ 0.97580447  0.41263022]\n",
      " [ 0.77657342  1.32613648]\n",
      " [ 0.82591076  1.31900253]\n",
      " [ 0.83683771  1.23750464]\n",
      " [ 0.7985369   1.02033993]\n",
      " [ 0.87457322  1.12276046]\n",
      " [ 1.13813867  0.86271747]\n",
      " [ 1.24121953  1.40275407]\n",
      " [ 1.44139014  0.85262466]\n",
      " [ 0.63707649  1.0670915 ]\n",
      " [ 0.93709244  1.05815831]\n",
      " [ 0.63925851  1.81733895]\n",
      " [ 0.91814773  0.6328989 ]\n",
      " [ 1.0971483   1.25261985]\n",
      " [ 0.8261897   0.94671318]\n",
      " [ 0.75807788  0.83132636]\n",
      " [ 0.5153843   1.43013335]\n",
      " [ 0.90080021  1.03464035]\n",
      " [ 1.77993963  0.94538064]\n",
      " [ 0.91238673  1.37905864]]\n"
     ]
    }
   ],
   "source": [
    "#One cluster of points\n",
    "#Taking the mean point (1,1), covariate matrix (.1,0), 20 is the number of points\n",
    "#Needs to be symmetric and positive\n",
    "sample = np.random.multivariate_normal([1,1],[[.1,0],[0,.1]],20)\n",
    "\n",
    "print sample"
   ]
  },
  {
   "cell_type": "code",
   "execution_count": 10,
   "metadata": {
    "collapsed": false
   },
   "outputs": [
    {
     "data": {
      "image/png": "[encoded data removed]",
      "text/plain": [
       "<matplotlib.figure.Figure at 0x10645cc50>"
      ]
     },
     "metadata": {},
     "output_type": "display_data"
    }
   ],
   "source": [
    "plt.scatter(sample[:,0], sample[:,1])\n",
    "plt.title('4 clusters ?')\n",
    "plt.show()"
   ]
  },
  {
   "cell_type": "markdown",
   "metadata": {},
   "source": [
    "Now let's create our clusters .... "
   ]
  },
  {
   "cell_type": "code",
   "execution_count": 11,
   "metadata": {
    "collapsed": false
   },
   "outputs": [],
   "source": [
    "#Creating 4 separate clusters\n",
    "#Vertically concatenating the arrays into a dataset\n",
    "data = np.vstack([np.random.multivariate_normal([1,1],[[.1,0],[0,.1]],20),\n",
    "                 np.random.multivariate_normal([1,3],[[.1,0],[0,.1]],20),\n",
    "                 np.random.multivariate_normal([3,1],[[.1,0],[0,.1]],20),\n",
    "                 np.random.multivariate_normal([3,3],[[.1,0],[0,.1]],20)])"
   ]
  },
  {
   "cell_type": "code",
   "execution_count": 12,
   "metadata": {
    "collapsed": false
   },
   "outputs": [
    {
     "data": {
      "text/plain": [
       "array([[ 1.05072696,  1.08390341],\n",
       "       [ 1.42224221,  0.82154514],\n",
       "       [ 0.82057008,  0.94114512],\n",
       "       [ 0.40151179,  1.08289079],\n",
       "       [ 1.06068352,  0.9629062 ],\n",
       "       [ 0.95671263,  1.3189202 ],\n",
       "       [ 1.50504247,  1.57904864],\n",
       "       [ 1.27758871,  1.22216066],\n",
       "       [ 1.4169241 ,  1.55753473],\n",
       "       [ 0.92770766,  1.01266409]])"
      ]
     },
     "execution_count": 12,
     "metadata": {},
     "output_type": "execute_result"
    }
   ],
   "source": [
    "data[:10,:]"
   ]
  },
  {
   "cell_type": "markdown",
   "metadata": {},
   "source": [
    "Plot the points"
   ]
  },
  {
   "cell_type": "code",
   "execution_count": 13,
   "metadata": {
    "collapsed": false
   },
   "outputs": [
    {
     "data": {
      "image/png": "[encoded data removed]",
      "text/plain": [
       "<matplotlib.figure.Figure at 0x106574b10>"
      ]
     },
     "metadata": {},
     "output_type": "display_data"
    }
   ],
   "source": [
    "plt.scatter(data[:,0], data[:,1])\n",
    "plt.title('4 clusters ?')\n",
    "plt.show()"
   ]
  },
  {
   "cell_type": "markdown",
   "metadata": {},
   "source": [
    "###Load the KMeans Class from sklearn.cluster"
   ]
  },
  {
   "cell_type": "code",
   "execution_count": 14,
   "metadata": {
    "collapsed": false
   },
   "outputs": [],
   "source": [
    "#applying k means on the cluster\n",
    "from sklearn.cluster import KMeans"
   ]
  },
  {
   "cell_type": "markdown",
   "metadata": {},
   "source": [
    "Initialize a KMeans classifier with 4 cluster, random initialization, random_state=1, 1 initial centroid seed and maximum number of iterations equal to 1"
   ]
  },
  {
   "cell_type": "code",
   "execution_count": 15,
   "metadata": {
    "collapsed": false
   },
   "outputs": [],
   "source": [
    "#n_init number can change\n",
    "#max iter says how many times it's going to compute the mean of the centroid\n",
    "#random state remains constant\n",
    "#more iterations = more accuracy = more central locations\n",
    "km = KMeans(n_clusters=4,  init='random', n_init=1 , max_iter = 1, random_state=1)"
   ]
  },
  {
   "cell_type": "markdown",
   "metadata": {},
   "source": [
    "Train the classifier on all the data"
   ]
  },
  {
   "cell_type": "code",
   "execution_count": 16,
   "metadata": {
    "collapsed": false
   },
   "outputs": [
    {
     "data": {
      "text/plain": [
       "KMeans(copy_x=True, init='random', max_iter=1, n_clusters=4, n_init=1,\n",
       "    n_jobs=1, precompute_distances=True, random_state=1, tol=0.0001,\n",
       "    verbose=0)"
      ]
     },
     "execution_count": 16,
     "metadata": {},
     "output_type": "execute_result"
    }
   ],
   "source": [
    "km.fit(data)"
   ]
  },
  {
   "cell_type": "markdown",
   "metadata": {},
   "source": [
    "Extract the coordinates of the cluster centers"
   ]
  },
  {
   "cell_type": "code",
   "execution_count": 17,
   "metadata": {
    "collapsed": false
   },
   "outputs": [
    {
     "data": {
      "text/plain": [
       "array([[ 3.4400184 ,  3.16899139],\n",
       "       [ 1.517145  ,  1.04663029],\n",
       "       [ 0.99897539,  3.0503684 ],\n",
       "       [ 3.05431841,  2.20711484]])"
      ]
     },
     "execution_count": 17,
     "metadata": {},
     "output_type": "execute_result"
    }
   ],
   "source": [
    "centroids = km.cluster_centers_\n",
    "centroids"
   ]
  },
  {
   "cell_type": "markdown",
   "metadata": {},
   "source": [
    "Predict the clusters for each data point"
   ]
  },
  {
   "cell_type": "code",
   "execution_count": 18,
   "metadata": {
    "collapsed": false
   },
   "outputs": [
    {
     "name": "stdout",
     "output_type": "stream",
     "text": [
      "[1 1 1 1 1 1 1 1 1 1 1 1 1 1 1 1 1 1 1 1 2 2 2 2 2 2 2 2 2 2 2 2 2 2 2 2 2\n",
      " 2 2 2 3 3 3 3 3 3 3 3 1 3 1 3 3 1 3 1 3 3 3 1 0 0 3 0 0 0 0 0 0 0 3 0 0 3\n",
      " 0 0 0 0 0 0]\n"
     ]
    }
   ],
   "source": [
    "y = km.predict(data)\n",
    "print y"
   ]
  },
  {
   "cell_type": "markdown",
   "metadata": {},
   "source": [
    "Plot the points with a different color for each cluster. Plot also the centroids in Red"
   ]
  },
  {
   "cell_type": "code",
   "execution_count": 19,
   "metadata": {
    "collapsed": false
   },
   "outputs": [
    {
     "data": {
      "text/plain": [
       "<matplotlib.collections.PathCollection at 0x108545910>"
      ]
     },
     "execution_count": 19,
     "metadata": {},
     "output_type": "execute_result"
    },
    {
     "data": {
      "image/png": "[encoded data removed]",
      "text/plain": [
       "<matplotlib.figure.Figure at 0x10834a890>"
      ]
     },
     "metadata": {},
     "output_type": "display_data"
    }
   ],
   "source": [
    "fig, ax = plt.subplots(1,1, figsize=(8,8))\n",
    "for t,marker,c in zip(xrange(4),\">ox+\",\"rgby\") :\n",
    "    ax.scatter(data[y == t,0],\n",
    "                data[y == t,1],\n",
    "                marker=marker,\n",
    "                c=c)\n",
    "\n",
    "ax.scatter(centroids[:,0],centroids[:,1],marker = 's',c='r')"
   ]
  },
  {
   "cell_type": "markdown",
   "metadata": {},
   "source": [
    "#### Discussion: what do you see?"
   ]
  },
  {
   "cell_type": "markdown",
   "metadata": {},
   "source": [
    "Let's try with better parameters. Initialize a KMeans classifier with 4 clusters, improved initialization, 10 initial centroid seeds and maximum number of iterations equal to 300."
   ]
  },
  {
   "cell_type": "code",
   "execution_count": 20,
   "metadata": {
    "collapsed": false
   },
   "outputs": [],
   "source": [
    "km = KMeans(n_clusters=4, init='k-means++', n_init=10 , max_iter = 300, random_state=1)"
   ]
  },
  {
   "cell_type": "markdown",
   "metadata": {},
   "source": [
    "Condense the steps above in a handy function that receives the data and the classifier as input parameters and returns the figure. Make sure you are aware of the number of clusters"
   ]
  },
  {
   "cell_type": "code",
   "execution_count": 21,
   "metadata": {
    "collapsed": false
   },
   "outputs": [],
   "source": [
    "def do_kmeans_4(km, data):\n",
    "    km.fit(data)\n",
    "    centroids = km.cluster_centers_\n",
    "    print \"centroids:\", centroids\n",
    "    y = km.predict(data)\n",
    "    \n",
    "    \n",
    "    fig, ax = plt.subplots(1,1, figsize=(8,8))\n",
    "    for t,marker,c in zip(xrange(4),\">ox+\",\"rgby\") :\n",
    "        ax.scatter(data[y == t,0],\n",
    "                   data[y == t,1],\n",
    "                   marker=marker,\n",
    "                   c=c)\n",
    "\n",
    "    ax.scatter(centroids[:,0],centroids[:,1],marker = 's',c='r')"
   ]
  },
  {
   "cell_type": "code",
   "execution_count": 16,
   "metadata": {
    "collapsed": false
   },
   "outputs": [
    {
     "name": "stdout",
     "output_type": "stream",
     "text": [
      "centroids: [[ 1.04406078  3.02303194]\n",
      " [ 3.00130381  2.9727225 ]\n",
      " [ 0.88041027  0.89020386]\n",
      " [ 3.01069534  1.05648433]]\n"
     ]
    },
    {
     "data": {
      "image/png": "[encoded data removed]",
      "text/plain": [
       "<matplotlib.figure.Figure at 0x108497a10>"
      ]
     },
     "metadata": {},
     "output_type": "display_data"
    }
   ],
   "source": [
    "do_kmeans_4(km, data)"
   ]
  },
  {
   "cell_type": "markdown",
   "metadata": {},
   "source": [
    "### Blurred boundaries"
   ]
  },
  {
   "cell_type": "markdown",
   "metadata": {},
   "source": [
    "Generate new datapoints that have a bigger variance of 0.5, around the same centroids"
   ]
  },
  {
   "cell_type": "code",
   "execution_count": 22,
   "metadata": {
    "collapsed": false
   },
   "outputs": [
    {
     "data": {
      "text/plain": [
       "<matplotlib.collections.PathCollection at 0x1066910d0>"
      ]
     },
     "execution_count": 22,
     "metadata": {},
     "output_type": "execute_result"
    },
    {
     "data": {
      "image/png": "[encoded data removed]",
      "text/plain": [
       "<matplotlib.figure.Figure at 0x108338ed0>"
      ]
     },
     "metadata": {},
     "output_type": "display_data"
    }
   ],
   "source": [
    "data1 = np.vstack([np.random.multivariate_normal([1,1],[[.5,0],[0,.5]],20),\n",
    "                 np.random.multivariate_normal([1,3],[[.5,0],[0,.5]],20),\n",
    "                 np.random.multivariate_normal([3,1],[[.5,0],[0,.5]],20),\n",
    "                 np.random.multivariate_normal([3,3],[[.5,0],[0,.5]],20)])\n",
    "plt.scatter(data1[:,0], data1[:,1])"
   ]
  },
  {
   "cell_type": "markdown",
   "metadata": {},
   "source": [
    "Initialize a new kmeans classifier"
   ]
  },
  {
   "cell_type": "code",
   "execution_count": 23,
   "metadata": {
    "collapsed": false
   },
   "outputs": [],
   "source": [
    "km = KMeans(n_clusters=4, random_state=1)"
   ]
  },
  {
   "cell_type": "markdown",
   "metadata": {},
   "source": [
    "Use the previously defined function to fit and plot the new data"
   ]
  },
  {
   "cell_type": "code",
   "execution_count": 24,
   "metadata": {
    "collapsed": false
   },
   "outputs": [
    {
     "name": "stdout",
     "output_type": "stream",
     "text": [
      "centroids: [[ 1.31768322  3.25261936]\n",
      " [ 3.65897905  2.6248109 ]\n",
      " [ 0.78787139  1.03093902]\n",
      " [ 2.9166665   0.77625664]]\n"
     ]
    },
    {
     "data": {
      "image/png": "[encoded data removed]",
      "text/plain": [
       "<matplotlib.figure.Figure at 0x108353e50>"
      ]
     },
     "metadata": {},
     "output_type": "display_data"
    }
   ],
   "source": [
    "#Finds the decision boundaries\n",
    "do_kmeans_4(km, data1)"
   ]
  },
  {
   "cell_type": "markdown",
   "metadata": {},
   "source": [
    "Repeat the above with 150 points per cluster"
   ]
  },
  {
   "cell_type": "code",
   "execution_count": 25,
   "metadata": {
    "collapsed": false
   },
   "outputs": [
    {
     "data": {
      "text/plain": [
       "<matplotlib.collections.PathCollection at 0x10617c6d0>"
      ]
     },
     "execution_count": 25,
     "metadata": {},
     "output_type": "execute_result"
    },
    {
     "data": {
      "image/png": "[encoded data removed]",
      "text/plain": [
       "<matplotlib.figure.Figure at 0x10647acd0>"
      ]
     },
     "metadata": {},
     "output_type": "display_data"
    }
   ],
   "source": [
    "data1 = np.vstack([np.random.multivariate_normal([1,1],[[.5,0],[0,.5]],150),\n",
    "                 np.random.multivariate_normal([1,3],[[.5,0],[0,.5]],150),\n",
    "                 np.random.multivariate_normal([3,1],[[.5,0],[0,.5]],150),\n",
    "                 np.random.multivariate_normal([3,3],[[.5,0],[0,.5]],150)])\n",
    "plt.scatter(data1[:,0], data1[:,1])"
   ]
  },
  {
   "cell_type": "code",
   "execution_count": 26,
   "metadata": {
    "collapsed": false
   },
   "outputs": [
    {
     "name": "stdout",
     "output_type": "stream",
     "text": [
      "centroids: [[ 0.92603598  1.02609787]\n",
      " [ 3.06002552  0.88710027]\n",
      " [ 0.87230135  2.94025185]\n",
      " [ 3.02818551  2.93289539]]\n"
     ]
    },
    {
     "data": {
      "image/png": "[encoded data removed]",
      "text/plain": [
       "<matplotlib.figure.Figure at 0x1083bbc90>"
      ]
     },
     "metadata": {},
     "output_type": "display_data"
    }
   ],
   "source": [
    "do_kmeans_4(km, data1)"
   ]
  },
  {
   "cell_type": "markdown",
   "metadata": {},
   "source": [
    "#### Discussion: what do you see?"
   ]
  },
  {
   "cell_type": "markdown",
   "metadata": {},
   "source": [
    "## Let's find clusters in the Iris Dataset"
   ]
  },
  {
   "cell_type": "markdown",
   "metadata": {},
   "source": [
    "Import the data from the iris dataset in sklearn, generate X and y arrays"
   ]
  },
  {
   "cell_type": "code",
   "execution_count": 27,
   "metadata": {
    "collapsed": false
   },
   "outputs": [],
   "source": [
    "from sklearn import datasets\n",
    "\n",
    "iris = datasets.load_iris()\n",
    "\n",
    "X = iris['data']\n",
    "Names = iris['feature_names']\n",
    "target_names = iris['target_names']\n",
    "y = iris['target']"
   ]
  },
  {
   "cell_type": "markdown",
   "metadata": {},
   "source": [
    "Display the features names"
   ]
  },
  {
   "cell_type": "code",
   "execution_count": 28,
   "metadata": {
    "collapsed": false,
    "scrolled": true
   },
   "outputs": [
    {
     "data": {
      "text/plain": [
       "['sepal length (cm)',\n",
       " 'sepal width (cm)',\n",
       " 'petal length (cm)',\n",
       " 'petal width (cm)']"
      ]
     },
     "execution_count": 28,
     "metadata": {},
     "output_type": "execute_result"
    }
   ],
   "source": [
    "Names"
   ]
  },
  {
   "cell_type": "markdown",
   "metadata": {},
   "source": [
    "Plot the Sepal width versus Petal Width with colors according to species"
   ]
  },
  {
   "cell_type": "code",
   "execution_count": 29,
   "metadata": {
    "collapsed": false
   },
   "outputs": [
    {
     "data": {
      "image/png": "[encoded data removed]",
      "text/plain": [
       "<matplotlib.figure.Figure at 0x1063bda10>"
      ]
     },
     "metadata": {},
     "output_type": "display_data"
    }
   ],
   "source": [
    "fig, ax = plt.subplots(1,1, figsize=(8,8))\n",
    "for t,marker,c,n in zip(xrange(3),\">ox\",\"rgb\",target_names):\n",
    "    ax.scatter(X[y == t,1],\n",
    "               X[y == t,3],\n",
    "               marker=marker,\n",
    "               c=c,\n",
    "               label=n)\n",
    "\n",
    "plt.xlabel('Sepal width (cm)')\n",
    "plt.ylabel('Petal width (cm)')\n",
    "plt.title('Sepal width (cm) VS Petal width (cm)')\n",
    "plt.legend(loc='best')\n",
    "plt.show()"
   ]
  },
  {
   "cell_type": "markdown",
   "metadata": {},
   "source": [
    "### Exercise 1: Implement Kmeans on Iris Data Set\n",
    "Even though the Iris Data Set has labels, the Kmeans algorithms will not take these labels as input. So we'll see how well it does at figuring out these labels on its own\n",
    "\n",
    "### Using 3 clusters, fit and and predict using Kmeans"
   ]
  },
  {
   "cell_type": "code",
   "execution_count": 31,
   "metadata": {
    "collapsed": false
   },
   "outputs": [],
   "source": [
    "data = np.vstack([np.random.multivariate_normal([1,1],[[.1,0],[0,.1]],20),\n",
    "                 np.random.multivariate_normal([1,3],[[.1,0],[0,.1]],20),\n",
    "                 np.random.multivariate_normal([3,1],[[.1,0],[0,.1]],20)])"
   ]
  },
  {
   "cell_type": "code",
   "execution_count": 32,
   "metadata": {
    "collapsed": false
   },
   "outputs": [
    {
     "data": {
      "image/png": "[encoded data removed]",
      "text/plain": [
       "<matplotlib.figure.Figure at 0x106755b10>"
      ]
     },
     "metadata": {},
     "output_type": "display_data"
    }
   ],
   "source": [
    "plt.scatter(sample[:,0], sample[:,1])\n",
    "plt.title('3 clusters ?')\n",
    "plt.show()"
   ]
  },
  {
   "cell_type": "code",
   "execution_count": 33,
   "metadata": {
    "collapsed": true
   },
   "outputs": [],
   "source": [
    "from sklearn.cluster import KMeans"
   ]
  },
  {
   "cell_type": "code",
   "execution_count": 34,
   "metadata": {
    "collapsed": true
   },
   "outputs": [],
   "source": [
    "km = KMeans(n_clusters=3,  init='random', n_init=1 , max_iter = 1, random_state=1)"
   ]
  },
  {
   "cell_type": "code",
   "execution_count": 35,
   "metadata": {
    "collapsed": false
   },
   "outputs": [
    {
     "data": {
      "text/plain": [
       "KMeans(copy_x=True, init='random', max_iter=1, n_clusters=3, n_init=1,\n",
       "    n_jobs=1, precompute_distances=True, random_state=1, tol=0.0001,\n",
       "    verbose=0)"
      ]
     },
     "execution_count": 35,
     "metadata": {},
     "output_type": "execute_result"
    }
   ],
   "source": [
    "km.fit(data)"
   ]
  },
  {
   "cell_type": "code",
   "execution_count": 36,
   "metadata": {
    "collapsed": false
   },
   "outputs": [
    {
     "data": {
      "text/plain": [
       "array([[ 1.02539627,  3.00971756],\n",
       "       [ 2.96594737,  1.01116169],\n",
       "       [ 1.05578103,  0.98623629]])"
      ]
     },
     "execution_count": 36,
     "metadata": {},
     "output_type": "execute_result"
    }
   ],
   "source": [
    "centroids = km.cluster_centers_\n",
    "centroids"
   ]
  },
  {
   "cell_type": "code",
   "execution_count": 37,
   "metadata": {
    "collapsed": false
   },
   "outputs": [
    {
     "name": "stdout",
     "output_type": "stream",
     "text": [
      "[2 2 2 2 2 2 2 2 2 2 2 2 2 2 2 2 2 2 2 2 0 0 0 0 0 0 0 0 0 0 0 0 0 0 0 0 0\n",
      " 0 0 0 1 1 1 1 1 1 1 1 1 1 1 1 1 1 1 1 1 1 1 1]\n"
     ]
    }
   ],
   "source": [
    "y = km.predict(data)\n",
    "print y"
   ]
  },
  {
   "cell_type": "code",
   "execution_count": 38,
   "metadata": {
    "collapsed": false
   },
   "outputs": [
    {
     "data": {
      "text/plain": [
       "<matplotlib.collections.PathCollection at 0x108fdbad0>"
      ]
     },
     "execution_count": 38,
     "metadata": {},
     "output_type": "execute_result"
    },
    {
     "data": {
      "image/png": "[encoded data removed]",
      "text/plain": [
       "<matplotlib.figure.Figure at 0x108d33690>"
      ]
     },
     "metadata": {},
     "output_type": "display_data"
    }
   ],
   "source": [
    "fig, ax = plt.subplots(1,1, figsize=(8,8))\n",
    "for t,marker,c in zip(xrange(4),\">ox+\",\"rgby\") :\n",
    "    ax.scatter(data[y == t,0],\n",
    "                data[y == t,1],\n",
    "                marker=marker,\n",
    "                c=c)\n",
    "\n",
    "ax.scatter(centroids[:,0],centroids[:,1],marker = 's',c='r')"
   ]
  },
  {
   "cell_type": "markdown",
   "metadata": {},
   "source": [
    "### Exercise 2: Plot Results\n",
    "#### Here's code for plotting the true clusters as the first of two subplots.  "
   ]
  },
  {
   "cell_type": "code",
   "execution_count": 39,
   "metadata": {
    "collapsed": false
   },
   "outputs": [
    {
     "data": {
      "text/plain": [
       "<matplotlib.legend.Legend at 0x109017850>"
      ]
     },
     "execution_count": 39,
     "metadata": {},
     "output_type": "execute_result"
    },
    {
     "data": {
      "image/png": "[encoded data removed]",
      "text/plain": [
       "<matplotlib.figure.Figure at 0x109017750>"
      ]
     },
     "metadata": {},
     "output_type": "display_data"
    }
   ],
   "source": [
    "fig, (ax1, ax2) = plt.subplots( 1,2, figsize=(10,6), sharex=True, sharey=True)\n",
    "\n",
    "## first the true clusters\n",
    "for t,marker,c,n in zip(xrange(3),\">ox\",\"rgb\",target_names):\n",
    "    ax1.scatter(X[y == t,1],\n",
    "               X[y == t,3],\n",
    "               marker=marker,\n",
    "               c=c,\n",
    "               label=n)\n",
    "\n",
    "ax1.set_xlabel('Sepal width (cm)')\n",
    "ax1.set_ylabel('Petal width (cm)')\n",
    "ax1.set_title('Sepal width (cm) VS Petal width (cm)')\n",
    "ax1.legend(loc='best')\n"
   ]
  },
  {
   "cell_type": "markdown",
   "metadata": {},
   "source": [
    "#### Add code to plot the results from the Kmeans as second subplot \n",
    "#### (Hint: Code is very similar to first plot, use ax2 as name of second plot)"
   ]
  },
  {
   "cell_type": "code",
   "execution_count": 40,
   "metadata": {
    "collapsed": false
   },
   "outputs": [
    {
     "data": {
      "image/png": "[encoded data removed]",
      "text/plain": [
       "<matplotlib.figure.Figure at 0x109272c10>"
      ]
     },
     "metadata": {},
     "output_type": "display_data"
    }
   ],
   "source": [
    "fig, (ax1, ax2) = plt.subplots( 1,2, figsize=(10,6), sharex=True, sharey=True)\n",
    "\n",
    "for t,marker,c,n in zip(xrange(3),\">ox\",\"rgb\",target_names):\n",
    "    ax1.scatter(X[y == t,1],\n",
    "               X[y == t,3],\n",
    "               marker=marker,\n",
    "               c=c,\n",
    "               label=n)\n",
    "\n",
    "ax1.set_xlabel('Sepal width (cm)')\n",
    "ax1.set_ylabel('Petal width (cm)')\n",
    "ax1.set_title('Sepal width (cm) VS Petal width (cm)')\n",
    "ax1.legend(loc='best')\n",
    "\n",
    "for t,marker,c,n in zip(xrange(3),\">ox\",\"rgb\",target_names):\n",
    "    ax2.scatter(X[y == t,1],\n",
    "               X[y == t,3],\n",
    "               marker=marker,\n",
    "               c=c,\n",
    "               label=n)\n",
    "\n",
    "ax2.set_xlabel('Sepal width (cm)')\n",
    "ax2.set_ylabel('Petal width (cm)')\n",
    "ax2.set_title('Sepal width (cm) VS Petal width (cm)')\n",
    "ax2.legend(loc='best')\n",
    "plt.show()"
   ]
  },
  {
   "cell_type": "markdown",
   "metadata": {},
   "source": [
    "#### After adding code for subplot run the code below to view the results.\n",
    "#### How well does Kmeans perform?\n",
    "#### What are the pros and cons of unsupervised learning?"
   ]
  },
  {
   "cell_type": "code",
   "execution_count": 42,
   "metadata": {
    "collapsed": false
   },
   "outputs": [],
   "source": [
    "plt.show()"
   ]
  },
  {
   "cell_type": "markdown",
   "metadata": {},
   "source": [
    "### Exercise 3: Silhouette Scores"
   ]
  },
  {
   "cell_type": "markdown",
   "metadata": {},
   "source": [
    "### Silhouette score"
   ]
  },
  {
   "cell_type": "code",
   "execution_count": 44,
   "metadata": {
    "collapsed": false
   },
   "outputs": [
    {
     "data": {
      "text/plain": [
       "0.5525919445213674"
      ]
     },
     "execution_count": 44,
     "metadata": {},
     "output_type": "execute_result"
    }
   ],
   "source": [
    "from sklearn import metrics\n",
    "from sklearn.metrics import pairwise_distances\n",
    "\n",
    "km = KMeans(n_clusters=3, random_state=1)\n",
    "km.fit(X)\n",
    "labels = km.labels_\n",
    "metrics.silhouette_score(X, labels, metric='euclidean')"
   ]
  },
  {
   "cell_type": "markdown",
   "metadata": {},
   "source": [
    "### calculate the Silhouette score for the values of k between 2-10"
   ]
  },
  {
   "cell_type": "code",
   "execution_count": 61,
   "metadata": {
    "collapsed": false
   },
   "outputs": [
    {
     "data": {
      "text/plain": [
       "0.29827215466111329"
      ]
     },
     "execution_count": 61,
     "metadata": {},
     "output_type": "execute_result"
    }
   ],
   "source": [
    "# use a for loop to generate values of k, fit and label data, append the scores to a list, and print the scores\n",
    "\n",
    "from sklearn import metrics\n",
    "from sklearn.metrics import pairwise_distances\n",
    "\n",
    "#For loop\n",
    "for t,marker,c,n in zip(xrange(2, 10),\">ox\",\"rgb\",target_names):\n",
    "    ax1.scatter(X[y == t,1],\n",
    "               X[y == t,3],\n",
    "               marker=marker,\n",
    "               c=c,\n",
    "               label=n)\n",
    "\n",
    "#Fitting and labeling\n",
    "km = KMeans(n_clusters=20, random_state=1)\n",
    "km.fit(X)\n",
    "labels = km.labels_\n",
    "metrics.silhouette_score(X, labels, metric='euclidean')\n",
    "\n"
   ]
  },
  {
   "cell_type": "markdown",
   "metadata": {
    "collapsed": false
   },
   "source": [
    "### Exercise 4: Create your own Sum of Squared Errors function"
   ]
  },
  {
   "cell_type": "code",
   "execution_count": 66,
   "metadata": {
    "collapsed": false
   },
   "outputs": [
    {
     "ename": "IndexError",
     "evalue": "tuple index out of range",
     "output_type": "error",
     "traceback": [
      "\u001b[0;31m---------------------------------------------------------------------------\u001b[0m",
      "\u001b[0;31mIndexError\u001b[0m                                Traceback (most recent call last)",
      "\u001b[0;32m<ipython-input-66-66fa8793658a>\u001b[0m in \u001b[0;36m<module>\u001b[0;34m()\u001b[0m\n\u001b[1;32m      8\u001b[0m \u001b[0mkm\u001b[0m\u001b[0;34m.\u001b[0m\u001b[0mcluster_centers_\u001b[0m\u001b[0;34m\u001b[0m\u001b[0m\n\u001b[1;32m      9\u001b[0m \u001b[0;34m\u001b[0m\u001b[0m\n\u001b[0;32m---> 10\u001b[0;31m \u001b[0mMC1\u001b[0m \u001b[0;34m=\u001b[0m \u001b[0mnp\u001b[0m\u001b[0;34m.\u001b[0m\u001b[0msum\u001b[0m\u001b[0;34m(\u001b[0m\u001b[0;34m(\u001b[0m\u001b[0mX\u001b[0m\u001b[0;34m-\u001b[0m\u001b[0mX\u001b[0m\u001b[0;34m.\u001b[0m\u001b[0mmean\u001b[0m\u001b[0;34m(\u001b[0m\u001b[0;36m3\u001b[0m\u001b[0;34m)\u001b[0m\u001b[0;34m)\u001b[0m\u001b[0;34m**\u001b[0m\u001b[0;36m2\u001b[0m\u001b[0;34m)\u001b[0m\u001b[0;34m\u001b[0m\u001b[0m\n\u001b[0m\u001b[1;32m     11\u001b[0m \u001b[0mMC2\u001b[0m \u001b[0;34m=\u001b[0m \u001b[0mnp\u001b[0m\u001b[0;34m.\u001b[0m\u001b[0msum\u001b[0m\u001b[0;34m(\u001b[0m\u001b[0mkm\u001b[0m\u001b[0;34m.\u001b[0m\u001b[0mcluster_centers_\u001b[0m\u001b[0;34m**\u001b[0m\u001b[0;36m2\u001b[0m\u001b[0;34m)\u001b[0m\u001b[0;34m\u001b[0m\u001b[0m\n\u001b[1;32m     12\u001b[0m \u001b[0mANSWER\u001b[0m \u001b[0;34m=\u001b[0m \u001b[0mMC1\u001b[0m \u001b[0;34m-\u001b[0m \u001b[0mMC2\u001b[0m\u001b[0;34m\u001b[0m\u001b[0m\n",
      "\u001b[0;32m/Users/owner/anaconda/lib/python2.7/site-packages/numpy/core/_methods.pyc\u001b[0m in \u001b[0;36m_mean\u001b[0;34m(a, axis, dtype, out, keepdims)\u001b[0m\n\u001b[1;32m     54\u001b[0m     \u001b[0marr\u001b[0m \u001b[0;34m=\u001b[0m \u001b[0masanyarray\u001b[0m\u001b[0;34m(\u001b[0m\u001b[0ma\u001b[0m\u001b[0;34m)\u001b[0m\u001b[0;34m\u001b[0m\u001b[0m\n\u001b[1;32m     55\u001b[0m \u001b[0;34m\u001b[0m\u001b[0m\n\u001b[0;32m---> 56\u001b[0;31m     \u001b[0mrcount\u001b[0m \u001b[0;34m=\u001b[0m \u001b[0m_count_reduce_items\u001b[0m\u001b[0;34m(\u001b[0m\u001b[0marr\u001b[0m\u001b[0;34m,\u001b[0m \u001b[0maxis\u001b[0m\u001b[0;34m)\u001b[0m\u001b[0;34m\u001b[0m\u001b[0m\n\u001b[0m\u001b[1;32m     57\u001b[0m     \u001b[0;31m# Make this warning show up first\u001b[0m\u001b[0;34m\u001b[0m\u001b[0;34m\u001b[0m\u001b[0m\n\u001b[1;32m     58\u001b[0m     \u001b[0;32mif\u001b[0m \u001b[0mrcount\u001b[0m \u001b[0;34m==\u001b[0m \u001b[0;36m0\u001b[0m\u001b[0;34m:\u001b[0m\u001b[0;34m\u001b[0m\u001b[0m\n",
      "\u001b[0;32m/Users/owner/anaconda/lib/python2.7/site-packages/numpy/core/_methods.pyc\u001b[0m in \u001b[0;36m_count_reduce_items\u001b[0;34m(arr, axis)\u001b[0m\n\u001b[1;32m     48\u001b[0m     \u001b[0mitems\u001b[0m \u001b[0;34m=\u001b[0m \u001b[0;36m1\u001b[0m\u001b[0;34m\u001b[0m\u001b[0m\n\u001b[1;32m     49\u001b[0m     \u001b[0;32mfor\u001b[0m \u001b[0max\u001b[0m \u001b[0;32min\u001b[0m \u001b[0maxis\u001b[0m\u001b[0;34m:\u001b[0m\u001b[0;34m\u001b[0m\u001b[0m\n\u001b[0;32m---> 50\u001b[0;31m         \u001b[0mitems\u001b[0m \u001b[0;34m*=\u001b[0m \u001b[0marr\u001b[0m\u001b[0;34m.\u001b[0m\u001b[0mshape\u001b[0m\u001b[0;34m[\u001b[0m\u001b[0max\u001b[0m\u001b[0;34m]\u001b[0m\u001b[0;34m\u001b[0m\u001b[0m\n\u001b[0m\u001b[1;32m     51\u001b[0m     \u001b[0;32mreturn\u001b[0m \u001b[0mitems\u001b[0m\u001b[0;34m\u001b[0m\u001b[0m\n\u001b[1;32m     52\u001b[0m \u001b[0;34m\u001b[0m\u001b[0m\n",
      "\u001b[0;31mIndexError\u001b[0m: tuple index out of range"
     ]
    }
   ],
   "source": [
    "# reseting the labels to 3 clusters \n",
    "km = KMeans(n_clusters=3, random_state=1)\n",
    "km.fit(X)\n",
    "labels = km.labels_\n",
    "\n",
    "# start by calculating the mean for each cluster\n",
    "# you can check your answer with \n",
    "km.cluster_centers_\n",
    "\n",
    "MC1 = np.sum((X-X.mean(3))**2)\n",
    "MC2 = np.sum(km.cluster_centers_**2)\n",
    "ANSWER = MC1 - MC2\n",
    "\n",
    "# for each cluster substract the mean from each data point to get the error\n",
    "# then get the magnitude of each error, square it, and sum it\n",
    "\n",
    "\n",
    "\n",
    "\n",
    "\n"
   ]
  },
  {
   "cell_type": "code",
   "execution_count": null,
   "metadata": {
    "collapsed": true
   },
   "outputs": [],
   "source": [
    "# similar to the loop before\n",
    "# generate values of k, fit and label data, append Sum of Squared Errors scores to a list, and print the scores\n",
    "\n",
    "\n",
    "\n",
    "\n",
    "\n"
   ]
  },
  {
   "cell_type": "markdown",
   "metadata": {},
   "source": [
    "### Exercise 5: Plot the SSE score next to the Silhouette scores"
   ]
  },
  {
   "cell_type": "code",
   "execution_count": 35,
   "metadata": {
    "collapsed": false
   },
   "outputs": [
    {
     "data": {
      "image/png": "[encoded data removed]",
      "text/plain": [
       "<matplotlib.figure.Figure at 0x108c537d0>"
      ]
     },
     "metadata": {},
     "output_type": "display_data"
    }
   ],
   "source": [
    "fig, (ax1, ax2) = plt.subplots(1,2, figsize=(15,5), sharex=True, sharey=True)\n",
    "\n",
    "ax1.plot(k_clusters, scores)\n",
    "ax1.set_xlabel('number of clusters')\n",
    "ax1.set_ylabel('silhouette coefficient')\n",
    "\n",
    "# plot here on ax2\n",
    "\n",
    "ax2.set_xlabel('number of clusters')\n",
    "ax2.set_ylabel('SSE');"
   ]
  }
 ],
 "metadata": {
  "kernelspec": {
   "display_name": "Python 2",
   "language": "python",
   "name": "python2"
  },
  "language_info": {
   "codemirror_mode": {
    "name": "ipython",
    "version": 2
   },
   "file_extension": ".py",
   "mimetype": "text/x-python",
   "name": "python",
   "nbconvert_exporter": "python",
   "pygments_lexer": "ipython2",
   "version": "2.7.9"
  }
 },
 "nbformat": 4,
 "nbformat_minor": 0
}
